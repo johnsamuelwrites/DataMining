{
 "cells": [
  {
   "cell_type": "markdown",
   "id": "0749a814",
   "metadata": {},
   "source": [
    "# TP 1\n",
    "\n",
    "## Objectifs\n",
    "\n",
    "* Comprendre les bases de la programmation Python :  \n",
    "  * Variables, types de données, listes, ensembles et tuples.\n",
    "  * Expressions conditionnelles et boucles\n",
    "  * Trier\n",
    "  * Dictionnaire\n",
    "  * Fichiers et interaction avec les utilisateurs\n",
    "* Utilisation de la bibliothèque Numpy"
   ]
  },
  {
   "cell_type": "markdown",
   "id": "745d6aaf",
   "metadata": {
    "tags": []
   },
   "source": [
    "## Exercice 1 ★\n",
    "\n",
    "### a\\. Commentaires"
   ]
  },
  {
   "cell_type": "markdown",
   "id": "c6d32c12-5800-46e6-8469-f876bb3580cd",
   "metadata": {},
   "source": [
    "Le symbole # est utilisé pour écrire un commentaire."
   ]
  },
  {
   "cell_type": "code",
   "execution_count": null,
   "id": "7a484590",
   "metadata": {},
   "outputs": [],
   "source": [
    "# Ceci est un commentaire\n",
    "print(\"Bonjour\")"
   ]
  },
  {
   "cell_type": "markdown",
   "id": "f88a05d2",
   "metadata": {},
   "source": [
    "### b\\. Variables"
   ]
  },
  {
   "cell_type": "markdown",
   "id": "63d1d0d4-68da-4a28-9ba9-bd7094fcce4b",
   "metadata": {},
   "source": [
    "Une variable est un nom symbolique qui fait référence à une valeur ou qui la contient, et cette valeur peut être de différents types de données tels que des nombres, des chaînes de caractères ou des objets."
   ]
  },
  {
   "cell_type": "code",
   "execution_count": null,
   "id": "0c685eec",
   "metadata": {},
   "outputs": [],
   "source": [
    "# une variable\n",
    "message = \"le monde!\"\n",
    "print(message)"
   ]
  },
  {
   "cell_type": "markdown",
   "id": "4bca84b5-5dfa-4c0c-9254-41360380f851",
   "metadata": {},
   "source": [
    "Les variables sont utilisées pour stocker des valeurs qui peuvent être manipulées ; ici, **a** et **b** se voient attribuer des valeurs entières, et **c** stocke le résultat de leur addition, qui est ensuite affiché."
   ]
  },
  {
   "cell_type": "code",
   "execution_count": null,
   "id": "103de144",
   "metadata": {},
   "outputs": [],
   "source": [
    "a = 10\n",
    "b = 20\n",
    "c = a + b\n",
    "print(c)"
   ]
  },
  {
   "cell_type": "markdown",
   "id": "9ab6adbb-3e87-44b3-8f80-e6e6de493a71",
   "metadata": {},
   "source": [
    "Une variable se voit attribuer une valeur réél, puis est affichée."
   ]
  },
  {
   "cell_type": "code",
   "execution_count": null,
   "id": "0569e76b",
   "metadata": {},
   "outputs": [],
   "source": [
    "# nombres réels\n",
    "pi = 3.14\n",
    "print(pi)"
   ]
  },
  {
   "cell_type": "markdown",
   "id": "d62fe659-5516-409c-9ef6-043cb42e7130",
   "metadata": {},
   "source": [
    "La fonction **type()** en Python est utilisée pour déterminer le type de données d'une variable ou d'une valeur."
   ]
  },
  {
   "cell_type": "code",
   "execution_count": null,
   "id": "e00af842",
   "metadata": {},
   "outputs": [],
   "source": [
    "# types de donnés\n",
    "message1 = \"Bonjour\"\n",
    "a = 12\n",
    "pi = 3.14\n",
    "print(type(message1))\n",
    "print(type(a))\n",
    "print(type(pi))"
   ]
  },
  {
   "cell_type": "markdown",
   "id": "1f686b39",
   "metadata": {},
   "source": [
    "### c\\. Concaténation de deux chaînes de caractères"
   ]
  },
  {
   "cell_type": "markdown",
   "id": "80921076-a2e0-485d-917e-9259c0cfa678",
   "metadata": {},
   "source": [
    "La concaténation de chaînes en Python désigne le processus qui consiste à joindre plusieurs chaînes de caractères pour en créer une nouvelle. Cela peut être réalisé en utilisant l'opérateur **+**. Lorsque vous utilisez **+** entre deux chaînes, Python les combine en une seule chaîne."
   ]
  },
  {
   "cell_type": "code",
   "execution_count": null,
   "id": "e37d259f",
   "metadata": {},
   "outputs": [],
   "source": [
    "# Concaténation de deux chaînes de caractères\n",
    "message = \"le monde!\"\n",
    "print(\"Bonjour\" + message)"
   ]
  },
  {
   "cell_type": "code",
   "execution_count": null,
   "id": "ca8dc2d2",
   "metadata": {},
   "outputs": [],
   "source": [
    "# Concaténation de deux chaînes de caractères\n",
    "message1 = \"Bonjour \"\n",
    "message2 = \"le monde!\"\n",
    "print(message1 + message2)"
   ]
  },
  {
   "cell_type": "code",
   "execution_count": null,
   "id": "8239fdf9",
   "metadata": {},
   "outputs": [],
   "source": [
    "# concaténation de deux variables de types de données différents\n",
    "# opération + sur deux types de données différents\n",
    "\n",
    "# Supprimer le commentaire ci-dessous et lancer le code\n",
    "message1 = \"Bonjour en Python\"\n",
    "a = 3\n",
    "# print(message1 + a)"
   ]
  },
  {
   "cell_type": "markdown",
   "id": "fcda0d87",
   "metadata": {},
   "source": [
    "Pourquoi avez-vous obtenu cette erreur ? Dans le code suivant, nous corrigeons cette erreur."
   ]
  },
  {
   "cell_type": "code",
   "execution_count": null,
   "id": "bacaa65b",
   "metadata": {},
   "outputs": [],
   "source": [
    "# solution de concaténation entre deux variables de types de données différents\n",
    "message1 = \"Bonjour en Python \"\n",
    "a = 3\n",
    "print(message1 + str(a))"
   ]
  },
  {
   "cell_type": "markdown",
   "id": "4b3ac96c-589d-4468-99af-f3b6981595b7",
   "metadata": {},
   "source": [
    "La conversion de type (ou type casting) désigne le processus de conversion d'un type de données en un autre.\n",
    "\n",
    "**str(a)** convertit la variable entière **a** en une chaîne de caractères. Cela est nécessaire car vous ne pouvez pas concaténer directement une chaîne (message1) avec un entier (a) en utilisant l'opérateur **+** sans d'abord convertir l'entier en une chaîne."
   ]
  },
  {
   "cell_type": "markdown",
   "id": "254b6dbd",
   "metadata": {},
   "source": [
    "### d\\. Listes"
   ]
  },
  {
   "cell_type": "markdown",
   "id": "c28ee87a-a45e-4b03-8a87-cc21e6bdfee6",
   "metadata": {},
   "source": [
    "Une liste est une collection d'éléments, qui peuvent être de types de données différents, entourée de crochets **[]** et séparée par des virgules."
   ]
  },
  {
   "cell_type": "code",
   "execution_count": null,
   "id": "25eccc7f",
   "metadata": {},
   "outputs": [],
   "source": [
    "a = [10, 20, 30, 40, 50]\n",
    "print(a)"
   ]
  },
  {
   "cell_type": "markdown",
   "id": "6889a488-0b2b-4e0c-af55-debb6e012210",
   "metadata": {},
   "source": [
    "Les listes sont des collections ordonnées, et chaque élément d'une liste possède une position spécifique appelée indice. L'indexation permet d'accéder aux éléments individuels d'une liste en utilisant leur position.\n",
    "\n",
    "L'indice du premier élément d'une liste est **0**, l'indice du deuxième élément est **1**, et ainsi de suite.\n",
    "\n",
    "Les éléments d'une liste peuvent être accédés en spécifiant le nom de la liste suivi de crochets contenant l'indice de l'élément que vous souhaitez accéder."
   ]
  },
  {
   "cell_type": "code",
   "execution_count": null,
   "id": "8144a9d1",
   "metadata": {},
   "outputs": [],
   "source": [
    "a = [10, 20, 30, 40, 50]\n",
    "print(a[0])\n",
    "print(a[1])\n",
    "print(a[2])\n",
    "print(a[3])\n",
    "print(a[4])"
   ]
  },
  {
   "cell_type": "code",
   "execution_count": null,
   "id": "4d6c5278",
   "metadata": {},
   "outputs": [],
   "source": [
    "# Supprimer le commentaire ci-dessous et lancer le code\n",
    "a = [10, 20, 30, 40, 50]\n",
    "# print(a[8])"
   ]
  },
  {
   "cell_type": "markdown",
   "id": "09f5f3d5",
   "metadata": {},
   "source": [
    "Pourquoi avez-vous obtenu cette erreur ? L'erreur se produit car le code tente d'accéder à un élément de la liste **a** à l'indice **8**, qui n'existe pas. En Python (et dans de nombreux langages de programmation), l'indexation des listes commence à **0** et va jusqu'à **len(a) - 1**, où **len(a)** est le nombre d'éléments dans la liste **a**."
   ]
  },
  {
   "cell_type": "code",
   "execution_count": null,
   "id": "658dd1e3",
   "metadata": {},
   "outputs": [],
   "source": [
    "message1 = \"Bonjour en Python \"\n",
    "print(message1[0])\n",
    "print(message1[1])\n",
    "print(message1[2])\n",
    "print(message1[3])\n",
    "print(message1[4])\n",
    "print(message1[5])\n",
    "print(message1[6])\n",
    "print(message1[7])"
   ]
  },
  {
   "cell_type": "markdown",
   "id": "ab49b252",
   "metadata": {},
   "source": [
    "Les chaînes de caractères se comportent comme des listes de caractères à bien des égards, vous pouvez donc accéder à des caractères individuels en utilisant l'indexation, tout comme vous le feriez avec des éléments dans une liste. La fonction **len()** est utilisée pour déterminer le nombre de caractères (ou d'éléments) dans la chaîne (ou la liste)."
   ]
  },
  {
   "cell_type": "code",
   "execution_count": null,
   "id": "d9085216",
   "metadata": {},
   "outputs": [],
   "source": [
    "message1 = \"Bonjour en Python \"\n",
    "print(len(message1))"
   ]
  },
  {
   "cell_type": "markdown",
   "id": "71a16e27",
   "metadata": {},
   "source": [
    "Nous allons maintenant créer une liste d'entiers"
   ]
  },
  {
   "cell_type": "code",
   "execution_count": null,
   "id": "4799ac64",
   "metadata": {},
   "outputs": [],
   "source": [
    "a = [10, 20, 30, 40, 50]\n",
    "print(len(a))"
   ]
  },
  {
   "cell_type": "markdown",
   "id": "f5da8e50-833f-46a8-a1cd-708f8c61786b",
   "metadata": {},
   "source": [
    "La fonction **len()** est utilisée pour déterminer le nombre d'éléments dans une liste (ou la longueur de tout objet itérable). Lorsque **len()** est appliquée à une liste, elle retourne le nombre d'éléments (ou d'articles) présents dans cette liste."
   ]
  },
  {
   "cell_type": "code",
   "execution_count": null,
   "id": "01673d1d",
   "metadata": {},
   "outputs": [],
   "source": [
    "a = [10, 20, 30, 40, 50]\n",
    "\n",
    "# ajouter un nouveau numéro à la fin de la liste\n",
    "a.append(60)\n",
    "print(a)"
   ]
  },
  {
   "cell_type": "markdown",
   "id": "ff99a81a-972a-4bf7-ac8c-7c014830df32",
   "metadata": {},
   "source": [
    "La méthode **append()** est utilisée pour ajouter un élément unique à la fin d'une liste existante. La syntaxe pour utiliser **append()** est **list_name.append(element)**, où **list_name** est le nom de la liste à laquelle vous souhaitez ajouter l'élément, et **element** est l'élément que vous voulez ajouter. L'élément peut être de n'importe quel type de données, et il est ajouté en tant que dernier élément de la liste.\n",
    "\n",
    "Les éléments d'une liste peuvent être modifiés en attribuant une nouvelle valeur à un indice spécifique. L'indexation des listes commence à **0**, donc **a[0]** fait référence au premier élément de la liste **a**, **a[1]** fait référence au deuxième élément, et ainsi de suite. Vous pouvez directement attribuer une nouvelle valeur à n'importe quel élément existant dans la liste en utilisant cette méthode d'indexation."
   ]
  },
  {
   "cell_type": "code",
   "execution_count": null,
   "id": "1a9eb572",
   "metadata": {},
   "outputs": [],
   "source": [
    "a = [10, 20, 30, 40, 50]\n",
    "\n",
    "# modifier un numéro à un index donné\n",
    "a[0] = 0\n",
    "print(a)"
   ]
  },
  {
   "cell_type": "code",
   "execution_count": null,
   "id": "32e88063",
   "metadata": {},
   "outputs": [],
   "source": [
    "# Supprimer le commentaire ci-dessous et lancer le code\n",
    "a = [10, 20, 30, 40, 50]\n",
    "\n",
    "# a[6] = 20\n",
    "print(a)"
   ]
  },
  {
   "cell_type": "markdown",
   "id": "4d8d7046-b196-4efd-9fd7-9e9ce7b40d7c",
   "metadata": {},
   "source": [
    "La méthode **insert()** peut être utilisée pour insérer un élément à n'importe quel indice dans la plage actuelle de la liste. Si vous spécifiez un indice supérieur à la longueur actuelle de la liste, Python insérera le nouvel élément à la fin de la liste."
   ]
  },
  {
   "cell_type": "code",
   "execution_count": null,
   "id": "0cab036d",
   "metadata": {},
   "outputs": [],
   "source": [
    "a = [10, 20, 30, 40, 50]\n",
    "\n",
    "# l'insertion d'un élément à un index particulier modifiera la liste\n",
    "a.insert(0, 0)\n",
    "print(a)\n",
    "print(len(a))"
   ]
  },
  {
   "cell_type": "code",
   "execution_count": null,
   "id": "6e4a96e2",
   "metadata": {},
   "outputs": [],
   "source": [
    "a = [10, 20, 30, 40, 50]\n",
    "a.insert(6, 60)\n",
    "print(a)\n",
    "print(len(a))"
   ]
  },
  {
   "cell_type": "code",
   "execution_count": null,
   "id": "4ca7b3ce",
   "metadata": {},
   "outputs": [],
   "source": [
    "a = [10, 20, 30, 40, 50]\n",
    "\n",
    "# Nous allons maintenant essayer d'insérer un nombre à un index plus grand que la longueur\n",
    "# de la liste. Nous veillerons à ce qu'il n'y ait pas d'erreur et le nouveau numéro\n",
    "# est ajouté à la fin de la liste\n",
    "a.insert(10, 60)\n",
    "print(a)\n",
    "print(len(a))"
   ]
  },
  {
   "cell_type": "markdown",
   "id": "57688391",
   "metadata": {},
   "source": [
    "### e\\. Tuples (listes non modifiables)\n",
    "\n"
   ]
  },
  {
   "cell_type": "markdown",
   "id": "a745a083-d492-4b9c-bf1b-eb8fd29167fb",
   "metadata": {},
   "source": [
    "Un **tuple** est une collection ordonnée d'éléments, similaire à une liste, mais les tuples sont immutables, ce qui signifie que leur contenu ne peut pas être modifié après leur création. Les tuples sont définis en utilisant des parenthèses **()** et les éléments sont séparés par des virgules. Les tuples peuvent contenir des éléments de différents types de données et peuvent même contenir d'autres tuples."
   ]
  },
  {
   "cell_type": "code",
   "execution_count": null,
   "id": "091f8fa6",
   "metadata": {},
   "outputs": [],
   "source": [
    "a = (10, 20, 30, 40, 50)\n",
    "print(a)"
   ]
  },
  {
   "cell_type": "code",
   "execution_count": null,
   "id": "6f5b3ea5",
   "metadata": {},
   "outputs": [],
   "source": [
    "a = (10, 20, 30, 40, 50)\n",
    "print(a[0])"
   ]
  },
  {
   "cell_type": "code",
   "execution_count": null,
   "id": "388a7d16",
   "metadata": {},
   "outputs": [],
   "source": [
    "a = (10, 20, 30, 40, 50)\n",
    "\n",
    "\n",
    "# Nous essayons maintenant de modifier un tuple\n",
    "# Décommentez le code ci-dessous et lancez le code\n",
    "# Un tupe est une liste non modifiable\n",
    "\n",
    "# a[0] = 0\n",
    "print(a)"
   ]
  },
  {
   "cell_type": "markdown",
   "id": "9961f94e-2cbb-4f94-9516-82fbf01907e6",
   "metadata": {},
   "source": [
    "Les tuples en Python sont immuables, ce qui signifie que leur contenu ne peut pas être modifié après leur création. Cela contraste avec les listes, qui sont mutables et permettent de modifier leurs éléments."
   ]
  },
  {
   "cell_type": "markdown",
   "id": "120a5d78",
   "metadata": {},
   "source": [
    "### f\\. Sets (Ensembles)\n",
    "\n"
   ]
  },
  {
   "cell_type": "markdown",
   "id": "11e7e69e-c56d-40c1-9dda-283f1e806465",
   "metadata": {},
   "source": [
    "Un **ensemble** (set) est une collection non ordonnée d'éléments uniques. Il ne permet pas les éléments en double. Les ensembles sont définis en utilisant des accolades **{}**, et les éléments sont séparés par des virgules.\n",
    "\n",
    "Lorsque vous créez un ensemble avec des éléments en double, Python supprime automatiquement les doublons, ne laissant que des éléments uniques dans l'ensemble."
   ]
  },
  {
   "cell_type": "code",
   "execution_count": null,
   "id": "b8fc8150",
   "metadata": {},
   "outputs": [],
   "source": [
    "# Un ensemble(Set) est une collection d'éléments distincts\n",
    "\n",
    "a = {10, 20, 30, 40, 50, 10, 20, 30, 40, 50}\n",
    "print(a)"
   ]
  },
  {
   "cell_type": "markdown",
   "id": "d40904dc-f777-4638-839a-90a87a200599",
   "metadata": {},
   "source": [
    "Vous pouvez ajouter des éléments à un ensemble en utilisant la méthode **add()** et supprimer des éléments d'un ensemble en utilisant la méthode **remove()**."
   ]
  },
  {
   "cell_type": "code",
   "execution_count": null,
   "id": "92551895",
   "metadata": {},
   "outputs": [],
   "source": [
    "a = {10, 20, 30, 40, 50, 10, 20, 30, 40, 50}\n",
    "a.add(10)\n",
    "print(a)"
   ]
  },
  {
   "cell_type": "code",
   "execution_count": null,
   "id": "d70f750b",
   "metadata": {},
   "outputs": [],
   "source": [
    "a = {10, 20, 30, 40, 50, 10, 20, 30, 40, 50}\n",
    "a.add(60)\n",
    "print(a)"
   ]
  },
  {
   "cell_type": "code",
   "execution_count": null,
   "id": "c4a399c0",
   "metadata": {},
   "outputs": [],
   "source": [
    "a = {10, 20, 30, 40, 50, 10, 20, 30, 40, 50}\n",
    "a.remove(40)\n",
    "print(a)"
   ]
  },
  {
   "cell_type": "markdown",
   "id": "40b00f2d",
   "metadata": {},
   "source": [
    "Nous allons maintenant essayer différents types de données avec les chiffres et afficher le résultat."
   ]
  },
  {
   "cell_type": "code",
   "execution_count": null,
   "id": "b901ca20",
   "metadata": {},
   "outputs": [],
   "source": [
    "# set\n",
    "a = {10, 20, 30, 40, 50, 10, 20, 30, 40, 50}\n",
    "print(a)\n",
    "print(type(a))\n",
    "\n",
    "# tuple\n",
    "b = (10, 20, 30, 40, 50, 10, 20, 30, 40, 50)\n",
    "print(b)\n",
    "print(type(b))\n",
    "\n",
    "# list\n",
    "c = [10, 20, 30, 40, 50, 10, 20, 30, 40, 50]\n",
    "print(c)\n",
    "print(type(c))"
   ]
  },
  {
   "cell_type": "markdown",
   "id": "0b0cc4c6-b117-45c0-843e-9cf1e7b4692b",
   "metadata": {},
   "source": [
    "Les **ensembles** (sets) en Python suppriment automatiquement les doublons. Les **tuples** préservent l'ordre des éléments et permettent les doublons, mais sont immuables. Les **listes** préservent également l'ordre des éléments et permettent les doublons."
   ]
  },
  {
   "cell_type": "markdown",
   "id": "e8542976-fd24-42b4-a43e-88f041250cf8",
   "metadata": {},
   "source": [
    "### **union()**\n",
    "La méthode **union()** ou l'opérateur **|** combine deux ensembles en un nouvel ensemble contenant tous les éléments uniques des deux ensembles. Elle retourne un nouvel ensemble contenant les éléments présents dans **a**, **b**, ou les deux, sans doublons. L'opération d'union ne modifie pas les ensembles originaux **a** et **b** ; elle crée et retourne plutôt un nouvel ensemble avec les éléments combinés."
   ]
  },
  {
   "cell_type": "code",
   "execution_count": null,
   "id": "53077c31-e7b1-439e-b6c3-e1123ea7e2a9",
   "metadata": {},
   "outputs": [],
   "source": [
    "a = {10, 20, 30, 40, 50}\n",
    "b = {10, 60, 70, 80, 90}\n",
    "c = a.union(b)\n",
    "print(c)"
   ]
  },
  {
   "cell_type": "markdown",
   "id": "a3248162-1869-4741-81e4-a08e0ab000aa",
   "metadata": {},
   "source": [
    "### **intersection()**\n",
    "La méthode **intersection()** ou l'opérateur **&** retourne un nouvel ensemble contenant les éléments présents dans les deux ensembles **a** et **b**. Elle calcule l'intersection des ensembles **a** et **b**, ce qui signifie qu'elle inclut uniquement les éléments communs aux deux ensembles.\n",
    "\n",
    "L'opération d'intersection ne modifie pas les ensembles originaux **a** et **b** ; elle crée et retourne plutôt un nouvel ensemble avec les éléments communs."
   ]
  },
  {
   "cell_type": "code",
   "execution_count": null,
   "id": "142a121c-bdfc-4598-b622-ff09526f9896",
   "metadata": {},
   "outputs": [],
   "source": [
    "a = {10, 20, 30, 40, 50}\n",
    "b = {10, 60, 70, 80, 90}\n",
    "c = a.intersection(b)\n",
    "print(c)"
   ]
  },
  {
   "cell_type": "markdown",
   "id": "b36a4d8e-553f-4a28-829f-0bc3e78d2cfc",
   "metadata": {},
   "source": [
    "### **difference()**\n",
    "La méthode **difference()** ou l'opérateur **-** retourne un nouvel ensemble contenant les éléments présents dans l'ensemble **a** mais pas dans l'ensemble **b**. Elle calcule la différence entre les ensembles **a** et **b**, ce qui signifie qu'elle inclut uniquement les éléments de **a** qui ne sont pas présents dans **b**.\n",
    "\n",
    "L'opération de différence ne modifie pas les ensembles originaux **a** et **b** ; elle crée et retourne plutôt un nouvel ensemble avec les éléments de **a** qui ne sont pas dans **b**."
   ]
  },
  {
   "cell_type": "code",
   "execution_count": null,
   "id": "c3ac76cd-6296-4e5f-8b3d-3b619cff68d6",
   "metadata": {},
   "outputs": [],
   "source": [
    "a = {10, 20, 30, 40, 50}\n",
    "b = {10, 60, 70, 80, 90}\n",
    "c = a.difference(b)\n",
    "print(c)"
   ]
  },
  {
   "cell_type": "code",
   "execution_count": null,
   "id": "4c00fa1c-77e0-40ae-aad0-6bac276f8aae",
   "metadata": {},
   "outputs": [],
   "source": [
    "a = {10, 20, 30, 40, 50}\n",
    "b = {10, 60, 70, 80, 90}\n",
    "c = b.difference(a)\n",
    "print(c)"
   ]
  },
  {
   "cell_type": "markdown",
   "id": "1871af23-ff1c-4523-8b89-0178e531685e",
   "metadata": {},
   "source": [
    "**Question :**\n",
    "\n",
    "Étant donné les ensembles :"
   ]
  },
  {
   "cell_type": "code",
   "execution_count": null,
   "id": "97ccae94-9b71-4d9b-9b8a-d40db155b079",
   "metadata": {},
   "outputs": [],
   "source": [
    "a = {10, 20, 30, 40, 50}\n",
    "b = {15, 25, 35, 40, 50}\n",
    "c = {5, 10, 15, 25, 30}"
   ]
  },
  {
   "cell_type": "markdown",
   "id": "84f18b89-24d3-4647-8500-1e58426c1dd8",
   "metadata": {},
   "source": [
    "1. Trouvez l'intersection de `a` et `b`.\n",
    "2. Trouvez la différence entre `b` et `a`.\n",
    "3. Trouvez la différence symétrique entre `a` et `c`.\n",
    "4. Déterminez si `a` est un sur-ensemble de `c`.\n",
    "5. Trouvez l'union de l'intersection de `a` et `b` avec la différence de `b` et `c`.\n",
    "\n",
    "Écrivez le code Python pour chaque opération et expliquez les résultats."
   ]
  },
  {
   "cell_type": "markdown",
   "id": "42f91c08",
   "metadata": {},
   "source": [
    "## Exercice 2 ★\n",
    "\n",
    "### a\\. Expressions conditionnelles\n"
   ]
  },
  {
   "cell_type": "markdown",
   "id": "ba92a06c-1217-4a16-ab85-59de8e8ad7b7",
   "metadata": {},
   "source": [
    "Les **instructions conditionnelles** (if, else, elif) vous permettent de contrôler le flux de votre programme en fonction de certaines conditions. Ces instructions vous aident à exécuter des blocs de code spécifiques en fonction du fait que les conditions soient vraies ou fausses.\n",
    "\n",
    "### **L'instruction if**\n",
    "L'instruction **if** est utilisée pour exécuter un bloc de code uniquement si une condition spécifiée est vraie. Elle peut être suivie d'un bloc **else** optionnel."
   ]
  },
  {
   "cell_type": "code",
   "execution_count": null,
   "id": "02bd4cba",
   "metadata": {},
   "outputs": [],
   "source": [
    "a = 12\n",
    "if a % 2 == 0:\n",
    "    print(a, \" is divisible by 2\")\n",
    "else:\n",
    "    print(a, \" is not divisible by 2\")"
   ]
  },
  {
   "cell_type": "code",
   "execution_count": null,
   "id": "79ec69e4",
   "metadata": {},
   "outputs": [],
   "source": [
    "lang = \"Français\"\n",
    "if lang == \"Français\":\n",
    "    print(\"Bonjour le monde!\")\n",
    "else:\n",
    "    print(\"Hello World!\")"
   ]
  },
  {
   "cell_type": "markdown",
   "id": "d4c9914b-df6e-4006-be34-d1ec48dce6c3",
   "metadata": {},
   "source": [
    "#### L'instruction `if-elif-else`\n",
    "\n",
    "L'instruction **`if-elif-else`** est utilisée lorsque vous avez plusieurs conditions à évaluer de manière séquentielle. Elle vous permet de vérifier plusieurs conditions et d'exécuter un bloc de code dès qu'une des conditions est **True**. Elle peut également avoir un bloc **`else`** optionnel à la fin.\n",
    "\n",
    "**Syntaxe :**\n",
    "```python\n",
    "if condition1:\n",
    "    # bloc de code à exécuter si condition1 est True\n",
    "elif condition2:\n",
    "    # bloc de code à exécuter si condition2 est True (optionnel)\n",
    "elif condition3:\n",
    "    # bloc de code à exécuter si condition3 est True (optionnel)\n",
    "else:\n",
    "    # bloc de code à exécuter si toutes les conditions sont False (optionnel)\n",
    "```"
   ]
  },
  {
   "cell_type": "code",
   "execution_count": null,
   "id": "62fe4a7c-d030-4df9-b977-e4e8317d509d",
   "metadata": {},
   "outputs": [],
   "source": [
    "b = 15\n",
    "\n",
    "if b < 10:\n",
    "    print(\"b is less than 10\")\n",
    "elif b == 10:\n",
    "    print(\"b is equal to 10\")\n",
    "else:\n",
    "    print(\"b is greater than 10\")"
   ]
  },
  {
   "cell_type": "markdown",
   "id": "4cc552d7-bf55-44e6-a3d5-a11ae26369e0",
   "metadata": {},
   "source": [
    "#### L'instruction `if-elif` (sans `else`)\n",
    "\n",
    "Vous pouvez également utiliser **`if-elif`** sans bloc **`else`**. Dans ce cas, si aucune des conditions n'est **True**, aucun bloc de code ne sera exécuté.\n",
    "\n",
    "**Syntaxe :**\n",
    "```python\n",
    "if condition1:\n",
    "    # bloc de code à exécuter si condition1 est True\n",
    "elif condition2:\n",
    "    # bloc de code à exécuter si condition2 est True (optionnel)\n",
    "```"
   ]
  },
  {
   "cell_type": "code",
   "execution_count": null,
   "id": "f2e0cb98-492f-4dab-b76e-e0093854045f",
   "metadata": {},
   "outputs": [],
   "source": [
    "c = 5\n",
    "\n",
    "if c < 0:\n",
    "    print(\"c is negative\")\n",
    "elif c == 0:\n",
    "    print(\"c is zero\")\n",
    "elif c > 0:\n",
    "    print(\"c is positive\")"
   ]
  },
  {
   "cell_type": "markdown",
   "id": "b43137f5-b1fb-40a7-aa9a-d52735c7c517",
   "metadata": {},
   "source": [
    "### Points clés :\n",
    "\n",
    "- Utilisez **`if`** pour exécuter un bloc de code en fonction d'une seule condition.\n",
    "- Utilisez **`if-elif-else`** pour évaluer plusieurs conditions de manière séquentielle et exécuter le bloc de code correspondant dès qu'une condition est **True**.\n",
    "- Utilisez **`if-elif`** sans **`else`** lorsque vous avez plusieurs conditions à vérifier, mais que vous n'avez pas besoin d'exécuter de code si aucune des conditions n'est **True**.\n",
    "- L'**indentation** est cruciale en Python pour délimiter les blocs de code au sein des instructions conditionnelles.\n",
    "\n",
    "Les instructions conditionnelles sont essentielles pour contrôler la logique et le comportement de vos programmes Python en fonction de différents scénarios et conditions."
   ]
  },
  {
   "cell_type": "markdown",
   "id": "3b72620c",
   "metadata": {},
   "source": [
    "### b\\. Boucles\n",
    "\n",
    "Les boucles peuvent également être utilisées pour accéder aux éléments à différents indices. Une **boucle `for`** est utilisée pour itérer sur une séquence (par exemple, une liste, un tuple, une chaîne de caractères ou une plage de nombres). La variable de boucle (**`i`** dans ce cas) prend chaque élément de la séquence un par un, ce qui vous permet d'effectuer des opérations sur chaque élément à l'intérieur de la boucle."
   ]
  },
  {
   "cell_type": "code",
   "execution_count": null,
   "id": "680bb1ef",
   "metadata": {},
   "outputs": [],
   "source": [
    "# liste\n",
    "for i in [10, 20, 30, 40, 50, 10, 20, 30, 40, 50]:\n",
    "    print(i)"
   ]
  },
  {
   "cell_type": "code",
   "execution_count": null,
   "id": "23b71b93",
   "metadata": {},
   "outputs": [],
   "source": [
    "# tuples\n",
    "for i in (10, 20, 30, 40, 50, 10, 20, 30, 40, 50):\n",
    "    print(i)"
   ]
  },
  {
   "cell_type": "code",
   "execution_count": null,
   "id": "8f8c144e",
   "metadata": {},
   "outputs": [],
   "source": [
    "# set\n",
    "for i in {10, 20, 30, 40, 50, 10, 20, 30, 40, 50}:\n",
    "    print(i)"
   ]
  },
  {
   "cell_type": "markdown",
   "id": "bf582ee6",
   "metadata": {},
   "source": [
    "### c\\. Limites\n",
    "\n"
   ]
  },
  {
   "cell_type": "markdown",
   "id": "e95f0094-051c-4670-8fb6-64dea84ff4c9",
   "metadata": {},
   "source": [
    "La fonction **`range(start, stop)`** génère une séquence de nombres en commençant par **`start`** jusqu'à (mais sans inclure) **`stop`**."
   ]
  },
  {
   "cell_type": "code",
   "execution_count": null,
   "id": "32d9c3ef",
   "metadata": {},
   "outputs": [],
   "source": [
    "for i in range(0, 10):\n",
    "    print(i)"
   ]
  },
  {
   "cell_type": "markdown",
   "id": "ae0d2823-e20e-440f-b46c-aa06330272cd",
   "metadata": {},
   "source": [
    "**`range(start, stop, step)`** spécifie l'incrément (ou le décrément) entre chaque nombre dans la séquence. Le paramètre **`step`** détermine la différence entre chaque nombre successif dans la séquence."
   ]
  },
  {
   "cell_type": "code",
   "execution_count": null,
   "id": "e12fc521",
   "metadata": {},
   "outputs": [],
   "source": [
    "for i in range(0, 10, 2):\n",
    "    print(i)"
   ]
  },
  {
   "cell_type": "code",
   "execution_count": null,
   "id": "31e301dc",
   "metadata": {},
   "outputs": [],
   "source": [
    "# print() par défaut affiche le message suivi d'une nouvelle ligne\n",
    "# Mais vous pouvez changer son comportement\n",
    "\n",
    "for i in range(0, 10, 2):\n",
    "    print(i, end=\" \")"
   ]
  },
  {
   "cell_type": "markdown",
   "id": "84264536-608f-474a-883c-8a54dff54ec5",
   "metadata": {},
   "source": [
    "Lorsque la valeur de **`step`** est négative (par exemple, **`-2`** dans l'exemple ci-dessous), la séquence compte à l'envers, c'est-à-dire qu'elle diminue."
   ]
  },
  {
   "cell_type": "code",
   "execution_count": null,
   "id": "36671a49",
   "metadata": {},
   "outputs": [],
   "source": [
    "for i in range(10, 0, -2):\n",
    "    print(i)"
   ]
  },
  {
   "cell_type": "code",
   "execution_count": null,
   "id": "b9214471",
   "metadata": {},
   "outputs": [],
   "source": [
    "for i in range(10, 0):\n",
    "    print(i)"
   ]
  },
  {
   "cell_type": "markdown",
   "id": "1e8784d6-309c-4316-a9ba-eb5abeeccf1c",
   "metadata": {},
   "source": [
    "**`print()`** affiche par défaut le message suivi d'un saut de ligne. Cependant, vous pouvez modifier ce comportement. Le paramètre **`end=\" \"`** dans **`print()`** spécifie que chaque instruction **`print()`** doit se terminer par un espace au lieu du caractère de saut de ligne par défaut (**`\\n`**)."
   ]
  },
  {
   "cell_type": "code",
   "execution_count": null,
   "id": "98d121d2-4495-4630-806d-95e9cf6d5193",
   "metadata": {},
   "outputs": [],
   "source": [
    "for i in range(0, 10, 2):\n",
    "    print(i, end=\" \")"
   ]
  },
  {
   "cell_type": "markdown",
   "id": "99c5c558-b405-4c04-94d8-3a6384ad7fd8",
   "metadata": {},
   "source": [
    "#### d. split()"
   ]
  },
  {
   "cell_type": "markdown",
   "id": "2c263af8",
   "metadata": {},
   "source": [
    "split(): La fonction peut être utilisée pour séparer une chaîne de caractères en utilisant \n",
    "un délimiteur spécifié. Par défaut, le délimiteur est un espace blanc."
   ]
  },
  {
   "cell_type": "code",
   "execution_count": null,
   "id": "a6d29bb7",
   "metadata": {},
   "outputs": [],
   "source": [
    "for i in \"Bonjour,le,monde!\".split():\n",
    "    print(i)"
   ]
  },
  {
   "cell_type": "markdown",
   "id": "9b3b9465-a2a4-403c-b916-877b92dea608",
   "metadata": {},
   "source": [
    "La boucle `for` parcourt chaque élément de la liste produite par `split()`, vous permettant de traiter chaque sous-chaîne individuellement."
   ]
  },
  {
   "cell_type": "code",
   "execution_count": null,
   "id": "f9eba34b",
   "metadata": {},
   "outputs": [],
   "source": [
    "for i in \"Bonjour,le,monde!\".split(\",\"):\n",
    "    print(i)"
   ]
  },
  {
   "cell_type": "markdown",
   "id": "11df409f",
   "metadata": {},
   "source": [
    "**Question**: Écrivez un programme en Python pour afficher la sortie suivante:\n",
    "\n",
    "  \n",
    " 1\n",
    "\n",
    " 12\n",
    " \n",
    " 123\n",
    " \n",
    " 1234\n",
    " \n",
    " 12345\n",
    " \n",
    " 123456\n",
    " \n",
    " 1234567\n",
    " \n",
    " 12345678"
   ]
  },
  {
   "cell_type": "markdown",
   "id": "05b0851f",
   "metadata": {},
   "source": [
    "## Exercice 3 ★\n",
    "\n",
    "### a\\. Tri\n",
    "\n"
   ]
  },
  {
   "cell_type": "markdown",
   "id": "6e3b0f47-7f13-4135-bb17-6d4d7b134c5f",
   "metadata": {},
   "source": [
    "La méthode **`sort()`** est utilisée pour trier les listes. Par défaut, **`sort()`** organise les éléments par ordre croissant."
   ]
  },
  {
   "cell_type": "code",
   "execution_count": null,
   "id": "70dbff83",
   "metadata": {},
   "outputs": [],
   "source": [
    "num = [10, 20, 30, 40, 50, 10, 20, 30, 40, 50]\n",
    "num.sort()\n",
    "print(num)"
   ]
  },
  {
   "cell_type": "markdown",
   "id": "2d840a73",
   "metadata": {},
   "source": [
    "### b\\. Tri (ordre décroissant)\n",
    "\n"
   ]
  },
  {
   "cell_type": "markdown",
   "id": "39890b60-2dfb-40e7-a094-9961b98bc858",
   "metadata": {},
   "source": [
    "Passer **`reverse=True`** trie les éléments par ordre décroissant. La méthode **`sort()`** modifie directement la liste sans renvoyer une nouvelle liste."
   ]
  },
  {
   "cell_type": "code",
   "execution_count": null,
   "id": "d444c2ef",
   "metadata": {},
   "outputs": [],
   "source": [
    "num = [10, 20, 30, 40, 50, 10, 20, 30, 40, 50]\n",
    "num.sort(reverse=True)\n",
    "print(num)"
   ]
  },
  {
   "cell_type": "markdown",
   "id": "9e3de82d",
   "metadata": {},
   "source": [
    "### c\\. minimum\n",
    "\n"
   ]
  },
  {
   "cell_type": "markdown",
   "id": "d3c997d5-6366-416e-b83b-363a97edca74",
   "metadata": {},
   "source": [
    "La fonction **`min()`** renvoie l'élément le plus petit d'une séquence. Elle peut être utilisée directement avec des listes (ou d'autres objets itérables) pour trouver l'élément le plus petit."
   ]
  },
  {
   "cell_type": "code",
   "execution_count": null,
   "id": "788937bc",
   "metadata": {},
   "outputs": [],
   "source": [
    "num = [10, 20, 30, 40, 50, 10, 20, 30, 40, 50]\n",
    "print(min(num))"
   ]
  },
  {
   "cell_type": "markdown",
   "id": "9b7ce02d",
   "metadata": {},
   "source": [
    "### d\\. maximum\n",
    "\n"
   ]
  },
  {
   "cell_type": "markdown",
   "id": "5fc5e361-4013-49d2-baa3-a083f9f47c6e",
   "metadata": {},
   "source": [
    "La fonction **`max()`** renvoie l'élément le plus grand d'une séquence. Elle peut être utilisée directement avec des listes (ou d'autres objets itérables) pour trouver l'élément le plus grand."
   ]
  },
  {
   "cell_type": "code",
   "execution_count": null,
   "id": "8102b783",
   "metadata": {},
   "outputs": [],
   "source": [
    "num = [10, 20, 30, 40, 50, 10, 20, 30, 40, 50]\n",
    "print(max(num))"
   ]
  },
  {
   "cell_type": "markdown",
   "id": "e38bfb1d",
   "metadata": {},
   "source": [
    "### e\\. sorted()\n",
    "\n",
    "La fonction **`sorted()`** en Python peut être utilisée pour créer une nouvelle liste triée sans modifier la liste originale. Elle permet d'obtenir une version triée d'une liste sans altérer la liste d'origine.\n",
    "\n",
    "Cette approche est utile lorsque vous avez besoin à la fois de la liste originale non triée et d'une version triée pour différents usages."
   ]
  },
  {
   "cell_type": "code",
   "execution_count": null,
   "id": "e601c65d",
   "metadata": {},
   "outputs": [],
   "source": [
    "num = [70, 20, 30, 10, 50, 60, 20, 80, 70, 50]\n",
    "tri = sorted(num, reverse=True)\n",
    "print(num)\n",
    "print(tri)"
   ]
  },
  {
   "cell_type": "markdown",
   "id": "784a70cf-a34c-4171-a0d3-80fbc18d9469",
   "metadata": {},
   "source": [
    "### f. reversed()\n",
    "\n",
    "La fonction `reversed()` inverse l'ordre des éléments dans une séquence sans modifier la liste d'origine. Le résultat de `reversed()` est un itérateur, ce qui signifie qu'il génère les éléments de manière paresseuse, au fur et à mesure des besoins."
   ]
  },
  {
   "cell_type": "code",
   "execution_count": null,
   "id": "86394564-31ef-4d9a-b5d9-e95e8b5fde84",
   "metadata": {},
   "outputs": [],
   "source": [
    "a = [12, 13, 14, 15]\n",
    "a_reverse = reversed(a)\n",
    "\n",
    "print(a_reverse)\n",
    "\n",
    "for num in a_reverse:\n",
    "    print(num)"
   ]
  },
  {
   "cell_type": "markdown",
   "id": "ce7c1436-cf4a-46da-8b53-72d3db017493",
   "metadata": {},
   "source": [
    "### g. zip()\n",
    "\n",
    "La fonction `zip()` associe les éléments de plusieurs itérables (listes, tuples, etc.) en fonction de leurs positions. Si les itérables d'entrée (`a1` et `b1` dans l'exemple ci-dessous) ont des longueurs différentes, `zip()` s'arrête après que le plus court soit épuisé.\n",
    "\n",
    "`zip()` est couramment utilisé pour itérer simultanément sur plusieurs listes ou pour combiner des données provenant de différentes sources en tuples."
   ]
  },
  {
   "cell_type": "code",
   "execution_count": null,
   "id": "94b121fc-925e-4729-be33-9d0bc044768c",
   "metadata": {},
   "outputs": [],
   "source": [
    "a1 = [1, 2, 3, 4]\n",
    "b1 = [5, 6, 7, 8]\n",
    "\n",
    "zipped = list(zip(a1, b1))\n",
    "print(zipped)"
   ]
  },
  {
   "cell_type": "markdown",
   "id": "9a541fbf-ea88-4483-a470-917ac6326d38",
   "metadata": {},
   "source": [
    "### h. enumerate()\n",
    "\n",
    "La fonction `enumerate()` en Python est utilisée pour ajouter un compteur à un objet itérable (comme une liste, un tuple ou une chaîne de caractères) et le retourner sous forme d'objet `enumerate`.\n",
    "\n",
    "Cet objet `enumerate` peut ensuite être utilisé dans des boucles ou d'autres itérations pour obtenir une liste d'éléments indexés."
   ]
  },
  {
   "cell_type": "code",
   "execution_count": null,
   "id": "bf912a85-77d3-4ff1-9b5d-c6967dd1eda7",
   "metadata": {},
   "outputs": [],
   "source": [
    "a1 = [1, 2, 3, 4]\n",
    "\n",
    "ezipped = enumerate(a1)\n",
    "print(ezipped)"
   ]
  },
  {
   "cell_type": "code",
   "execution_count": null,
   "id": "b64d47a7-dc7c-4e90-8005-7e94a4cec826",
   "metadata": {},
   "outputs": [],
   "source": [
    "a1 = [1, 2, 3, 4]\n",
    "\n",
    "ezipped = enumerate(a1)\n",
    "for index, number in ezipped:\n",
    "    print(index, number)"
   ]
  },
  {
   "cell_type": "markdown",
   "id": "77dc475b-ceb1-4dcf-badf-fe6cab7c6e2a",
   "metadata": {},
   "source": [
    "Elle peut également être utilisée avec d'autres fonctions mentionnées ci-dessus."
   ]
  },
  {
   "cell_type": "code",
   "execution_count": null,
   "id": "b5ca3249-2327-4ba4-8019-b32547ab3289",
   "metadata": {},
   "outputs": [],
   "source": [
    "a1 = [1, 2, 3, 4]\n",
    "b1 = [5, 6, 7, 8]\n",
    "\n",
    "ezipped = list(enumerate(zip(a1, b1)))\n",
    "print(ezipped)"
   ]
  },
  {
   "cell_type": "markdown",
   "id": "2c02c400-369e-4dbc-a0b3-c1445c6a3180",
   "metadata": {},
   "source": [
    "### i. Chaîne de caractères"
   ]
  },
  {
   "cell_type": "markdown",
   "id": "e9d21b1f-76d5-489a-b644-62a651c2c723",
   "metadata": {},
   "source": [
    "**sorted(..., key=str.lower, reverse=True)** : La fonction `sorted()` trie une liste. L'argument `key=str.lower` permet de trier les mots sans tenir compte de la casse (majuscules/minuscules). L'argument `reverse=True` indique que le tri doit être effectué en ordre décroissant (inverse)."
   ]
  },
  {
   "cell_type": "code",
   "execution_count": null,
   "id": "c03b4247-9cf7-443d-86b1-d8cddc29556e",
   "metadata": {},
   "outputs": [],
   "source": [
    "print(sorted(\"Bonjour le monde!\".split(), key=str.lower, reverse=True))"
   ]
  },
  {
   "cell_type": "code",
   "execution_count": null,
   "id": "a46c9635-eb97-40b2-a687-a73f3ed194cd",
   "metadata": {},
   "outputs": [],
   "source": [
    "days = [\"Sunday\", \"Monday\", \"Tuesday\", \"Wednesday\", \"Thursday\", \"Friday\"]\n",
    "days_num = list(enumerate(days))\n",
    "print(days_num)"
   ]
  },
  {
   "cell_type": "markdown",
   "id": "73595598-4eca-4612-91d7-4ffc909f2102",
   "metadata": {},
   "source": [
    "`enumerate(days, start=1)` crée un objet `enumerate` qui itère sur les jours, en commençant l'index à partir de 1 `(start=1)`."
   ]
  },
  {
   "cell_type": "code",
   "execution_count": null,
   "id": "069af9dd-c032-43aa-9e01-55fa2c81dee6",
   "metadata": {},
   "outputs": [],
   "source": [
    "days = [\"Sunday\", \"Monday\", \"Tuesday\", \"Wednesday\", \"Thursday\", \"Friday\"]\n",
    "\n",
    "days_num = list(enumerate(days, start=1))\n",
    "print(days_num)"
   ]
  },
  {
   "cell_type": "markdown",
   "id": "2d2848ae",
   "metadata": {},
   "source": [
    "**Question 1:**  Modifiez le code donné ci-dessous pour afficher les cinq plus grands numéros uniques.\n"
   ]
  },
  {
   "cell_type": "code",
   "execution_count": null,
   "id": "0051b178",
   "metadata": {},
   "outputs": [],
   "source": [
    "num = [70, 20, 30, 10, 50, 60, 20, 80, 70, 50]\n",
    "\n",
    "# sélectionner les cinq premiers numéros\n",
    "tri = sorted(num, reverse=True)[:5]\n",
    "print(tri)"
   ]
  },
  {
   "cell_type": "markdown",
   "id": "9adcc0a0-f27e-4aaf-8f0d-cd371c6517d3",
   "metadata": {},
   "source": [
    "**Question 2**\n",
    "\n",
    "On vous donne une liste d'entiers représentant les chiffres de ventes mensuelles d'une entreprise sur une période de 12 mois. Votre tâche consiste à effectuer une série d'opérations en utilisant les fonctions de tri et de min/max pour analyser et manipuler les données."
   ]
  },
  {
   "cell_type": "code",
   "execution_count": null,
   "id": "f696e8f4-8e36-4f49-badc-0916e89486d3",
   "metadata": {},
   "outputs": [],
   "source": [
    "sales = [1200, 3500, 2800, 4500, 3000, 2200, 3400, 3700, 4200, 3600, 2800, 3900]\n"
   ]
  },
  {
   "cell_type": "markdown",
   "id": "9213b813-b68d-4543-bf32-b65c1baa6969",
   "metadata": {},
   "source": [
    "1. **Trouvez le mois avec les ventes les plus élevées**.\n",
    "2. **Trouvez le mois avec les ventes les plus faibles**.\n",
    "3. **Triez les données de ventes** par ordre croissant (du plus petit au plus grand).\n",
    "4. **Triez les données de ventes** par ordre décroissant (du plus grand au plus petit).\n",
    "5. **Créez une nouvelle liste** des 3 mois avec les ventes les plus élevées. Affichez cette nouvelle liste.\n",
    "6. **Créez une nouvelle liste** des 3 mois avec les ventes les plus faibles en utilisant la fonction `sorted()` sans `reverse=True` et en tranchant le résultat. Affichez cette nouvelle liste.\n",
    "7. **Triez les données de ventes** en utilisant la fonction `sorted()` par ordre décroissant et créez une nouvelle liste contenant les données de ventes **sans les 2 premiers mois**. Affichez cette nouvelle liste.\n",
    "8. Écrivez une fonction `average_sales()` qui calcule et retourne la moyenne des ventes sur les 12 mois. Utilisez cette fonction pour afficher la moyenne des ventes et comparez-la avec les chiffres des ventes les plus élevées et les plus faibles."
   ]
  },
  {
   "cell_type": "markdown",
   "id": "e6897a05",
   "metadata": {},
   "source": [
    "## Exercice 4 ★★\n",
    "\n",
    "### a\\. Dictionnaire\n",
    "\n",
    "Un dictionnaire représente une collection non ordonnée d'éléments où chaque élément est une paire clé-valeur. Les clés doivent être uniques et immuables (chaînes de caractères, nombres, tuples), tandis que les valeurs peuvent être de n'importe quel type de données et peuvent être mutables."
   ]
  },
  {
   "cell_type": "code",
   "execution_count": null,
   "id": "ec9b368d",
   "metadata": {},
   "outputs": [],
   "source": [
    "a = {\"contente\": 12, \"content\": 12, \"triste\": 2}\n",
    "print(a)\n",
    "print(type(a))"
   ]
  },
  {
   "cell_type": "markdown",
   "id": "f2c1a2d7-603f-4553-8526-ae7d4d407b02",
   "metadata": {},
   "source": [
    "Vous pouvez accéder (et même modifier) à la valeur associée à une clé en utilisant `a[key]`."
   ]
  },
  {
   "cell_type": "code",
   "execution_count": null,
   "id": "cd6ab863-fc4f-469e-9161-39428f2b9406",
   "metadata": {},
   "outputs": [],
   "source": [
    "a = {\"contente\": 12, \"content\": 12, \"triste\": 2}\n",
    "a[\"contente\"] = 10\n",
    "print(a)"
   ]
  },
  {
   "cell_type": "markdown",
   "id": "64a7f9c3-0ce2-4b8e-b650-6e46c00e0937",
   "metadata": {},
   "source": [
    "Itérer directement sur un dictionnaire permet d'itérer sur ses clés par défaut."
   ]
  },
  {
   "cell_type": "code",
   "execution_count": null,
   "id": "6421dd26",
   "metadata": {},
   "outputs": [],
   "source": [
    "a = {\"contente\": 12, \"content\": 12, \"triste\": 2}\n",
    "for key in a:\n",
    "    print(\"la phrase \", key, \" apparait \", a[key], \" fois\")"
   ]
  },
  {
   "cell_type": "code",
   "execution_count": null,
   "id": "e15db10c",
   "metadata": {},
   "outputs": [],
   "source": [
    "a = {\"contente\": 12, \"content\": 12, \"triste\": 2}\n",
    "a[\"joie\"] = 10\n",
    "print(a)"
   ]
  },
  {
   "cell_type": "markdown",
   "id": "9bd8e9e1-2b5a-4add-9da3-2e8b6f0c62c8",
   "metadata": {},
   "source": [
    "Trier directement un dictionnaire avec `sorted()` trie ses clés et les retourne sous forme de liste."
   ]
  },
  {
   "cell_type": "code",
   "execution_count": null,
   "id": "566e6451",
   "metadata": {},
   "outputs": [],
   "source": [
    "mots = {\"contente\": 12, \"content\": 12, \"triste\": 2, \"joie\": 10}\n",
    "print(sorted(mots))"
   ]
  },
  {
   "cell_type": "markdown",
   "id": "86e0391b-f3c8-4ddb-b83f-9540ff833b3f",
   "metadata": {},
   "source": [
    "L'utilisation de `.items()` permet d'itérer sur les paires clé-valeur d'un dictionnaire."
   ]
  },
  {
   "cell_type": "code",
   "execution_count": null,
   "id": "4b7fc36d",
   "metadata": {},
   "outputs": [],
   "source": [
    "a = {\"contente\": 12, \"content\": 12, \"triste\": 2}\n",
    "for key, value in a.items():\n",
    "    print(\"la phrase \", key, \" apparait \", value, \" fois\")"
   ]
  },
  {
   "cell_type": "code",
   "execution_count": null,
   "id": "9acfae25",
   "metadata": {},
   "outputs": [],
   "source": [
    "mots = {\"contente\": 12, \"content\": 12, \"triste\": 2, \"joie\": 10}\n",
    "mots_tuple = [(key, value) for key, value in mots.items()]\n",
    "print(mots_tuple)"
   ]
  },
  {
   "cell_type": "markdown",
   "id": "2273e32e-5481-47e5-b70e-38c33a4e474d",
   "metadata": {},
   "source": [
    "Vous pouvez supprimer un élément d'un dictionnaire en utilisant `del` suivi de `a[key]`, où `key` est la clé de l'élément que vous souhaitez supprimer."
   ]
  },
  {
   "cell_type": "code",
   "execution_count": null,
   "id": "3c3cc19d",
   "metadata": {},
   "outputs": [],
   "source": [
    "a = {\"contente\": 12, \"content\": 12, \"triste\": 2}\n",
    "del a[\"triste\"]\n",
    "print(a)"
   ]
  },
  {
   "cell_type": "markdown",
   "id": "64530d6b",
   "metadata": {},
   "source": [
    "### b\\. itemgetter"
   ]
  },
  {
   "cell_type": "markdown",
   "id": "6f52fc5d-2da7-4287-8d4f-9355a873a6fe",
   "metadata": {},
   "source": [
    "`itemgetter` est une fonction du module `operator` qui est utilisée pour récupérer des éléments ou des objets d'un objet itérable (comme une liste, un tuple ou un dictionnaire) en fonction de leurs indices ou clés. Elle renvoie un objet callable qui extrait l'élément ou les éléments spécifiés de l'objet fourni."
   ]
  },
  {
   "cell_type": "markdown",
   "id": "25c3ed41-cc26-455b-83d9-c8b2803e2e98",
   "metadata": {},
   "source": [
    "Utiliser `sorted()` avec `itemgetter(1)` permet de trier une liste de tuples en fonction du deuxième élément (ici, la `valeur`). Les opérations de tri ne modifient pas le dictionnaire d'origine ni son contenu, mais créent une liste triée de tuples."
   ]
  },
  {
   "cell_type": "code",
   "execution_count": null,
   "id": "7a5a54be",
   "metadata": {},
   "outputs": [],
   "source": [
    "from operator import itemgetter\n",
    "\n",
    "mots = {\"contente\": 12, \"content\": 12, \"triste\": 2, \"joie\": 10}\n",
    "mots_tuple = [(key, value) for key, value in mots.items()]\n",
    "print(sorted(mots_tuple, key=itemgetter(1)))"
   ]
  },
  {
   "cell_type": "markdown",
   "id": "c620c5e6",
   "metadata": {},
   "source": [
    "### c\\. Interaction with user"
   ]
  },
  {
   "cell_type": "markdown",
   "id": "3afa4795-bf8f-4622-81c4-2a1e4f5d40b1",
   "metadata": {},
   "source": [
    "La fonction `input()` est utilisée pour accepter les entrées de l'utilisateur depuis la console. Le message à l'intérieur de `input()` sert d'invite pour guider l'utilisateur sur ce qu'il doit saisir."
   ]
  },
  {
   "cell_type": "code",
   "execution_count": null,
   "id": "9147b619",
   "metadata": {},
   "outputs": [],
   "source": [
    "# nom = input(\"Quel est votre nom?\")\n",
    "# print(nom)"
   ]
  },
  {
   "cell_type": "code",
   "execution_count": null,
   "id": "0eb75315",
   "metadata": {},
   "outputs": [],
   "source": [
    "# age = input(\"Quel est votre âge? \")\n",
    "# print(age)\n",
    "# print(type(age))"
   ]
  },
  {
   "cell_type": "code",
   "execution_count": null,
   "id": "64b2857e",
   "metadata": {},
   "outputs": [],
   "source": [
    "# age = input(\"Quel est votre âge? \")\n",
    "# age = int(age)\n",
    "# print(age)\n",
    "# print(type(age))"
   ]
  },
  {
   "cell_type": "markdown",
   "id": "5e198a45-c4e9-4dd4-861f-744cedec38de",
   "metadata": {},
   "source": [
    "**Question 1: Compréhension de l'ensemble et filtrage complexe**\n",
    "\n",
    "Vous avez une collection de données d'utilisateurs stockées sous forme de liste de dictionnaires. Chaque dictionnaire représente un utilisateur avec les clés suivantes : name, age et hobbies."
   ]
  },
  {
   "cell_type": "code",
   "execution_count": null,
   "id": "1cf2b15e-2394-4637-95a4-751b0f78b142",
   "metadata": {},
   "outputs": [],
   "source": [
    "users = [\n",
    "    {\"name\": \"Alice\", \"age\": 30, \"hobbies\": {\"reading\", \"swimming\", \"hiking\"}},\n",
    "    {\"name\": \"Bob\", \"age\": 22, \"hobbies\": {\"chess\", \"reading\", \"swimming\"}},\n",
    "    {\"name\": \"Charlie\", \"age\": 25, \"hobbies\": {\"gaming\", \"hiking\", \"reading\"}},\n",
    "    {\"name\": \"Diana\", \"age\": 35, \"hobbies\": {\"swimming\", \"yoga\", \"reading\"}},\n",
    "    {\"name\": \"Eve\", \"age\": 29, \"hobbies\": {\"gaming\", \"reading\", \"chess\"}},\n",
    "]"
   ]
  },
  {
   "cell_type": "markdown",
   "id": "34b952c3-6993-4607-9494-33ea8eec1ddd",
   "metadata": {},
   "source": [
    "1. Écrivez un programme qui :\n",
    "   - Trouve les **loisirs (hobbies) communs** à tous les utilisateurs.\n",
    "   - Trouve les **loisirs uniques** (ceux qui n'appartiennent qu'à un seul utilisateur).\n",
    "   - Trouve les utilisateurs qui partagent les **exactement les mêmes loisirs** (s'il y en a).\n",
    "   - Trouve le **loisir le plus populaire** parmi tous les utilisateurs.\n",
    "   \n",
    "2. Affichez les résultats clairement et expliquez votre approche."
   ]
  },
  {
   "cell_type": "markdown",
   "id": "5d3b04a1",
   "metadata": {},
   "source": [
    "**Question 2:** Ecrire un programme en Python qui interagit avec l'utilisateur pour\n",
    "obtenir les informations suivantes de 5 étudiants :\n",
    "\n",
    "- Nom de l'étudiant\n",
    "- Âge\n",
    "- Grades en 5 modules\n",
    "\n",
    "Une fois les informations obtenues pour les cinq étudiants, calculez\n",
    "et afficher les valeurs suivantes pour chaque module :\n",
    "\n",
    "- note moyenne\n",
    "- note maximale\n",
    "- note minimale"
   ]
  },
  {
   "cell_type": "markdown",
   "id": "2896b68e",
   "metadata": {},
   "source": [
    "## Exercice 5 ★★★\n",
    "\n",
    "Lire et écrire dans un fichier"
   ]
  },
  {
   "cell_type": "markdown",
   "id": "b6d17f0c",
   "metadata": {},
   "source": [
    "### a\\. Fichiers\n"
   ]
  },
  {
   "cell_type": "markdown",
   "id": "4b15907d-6b52-48af-9cb6-d864755e90a0",
   "metadata": {},
   "source": [
    "La fonction `open()` ouvre un fichier et retourne un objet fichier correspondant qui vous permet d'interagir avec le fichier (lire son contenu, y écrire, etc.). La méthode `read()` lit les données d'un fichier ouvert. La méthode `write()` écrit des données dans un fichier ouvert."
   ]
  },
  {
   "cell_type": "code",
   "execution_count": null,
   "id": "4301e195",
   "metadata": {},
   "outputs": [],
   "source": [
    "# écrire dans un fichier\n",
    "message = \"Bonjour le monde\"\n",
    "with open(\"bonjour.txt\", \"w\") as file:\n",
    "    file.write(message)\n",
    "file.close()"
   ]
  },
  {
   "cell_type": "code",
   "execution_count": null,
   "id": "050dc94c",
   "metadata": {},
   "outputs": [],
   "source": [
    "# lire un fichier\n",
    "with open(\"bonjour.txt\", \"r\") as file:\n",
    "    text = file.read()\n",
    "    print(text)\n",
    "file.close()"
   ]
  },
  {
   "cell_type": "code",
   "execution_count": null,
   "id": "9dba0dd2",
   "metadata": {},
   "outputs": [],
   "source": [
    "# écrire dans un fichier\n",
    "message1 = \"Bonjour le monde\"\n",
    "message2 = \"Programmation en Python\"\n",
    "with open(\"bonjour.txt\", \"w\") as file:\n",
    "    file.write(message1)\n",
    "    file.write(message2)\n",
    "file.close()"
   ]
  },
  {
   "cell_type": "code",
   "execution_count": null,
   "id": "b1eec419",
   "metadata": {},
   "outputs": [],
   "source": [
    "# lire un fichier\n",
    "with open(\"bonjour.txt\", \"r\") as file:\n",
    "    text = file.read()\n",
    "    print(text)\n",
    "file.close()"
   ]
  },
  {
   "cell_type": "code",
   "execution_count": null,
   "id": "7d5de241",
   "metadata": {},
   "outputs": [],
   "source": [
    "# Rédaction dans un fichier en utilisant le caractère de nouvelle ligne\n",
    "message1 = \"Bonjour le monde\\n\"\n",
    "message2 = \"Programmation en Python\"\n",
    "with open(\"bonjour.txt\", \"w\") as file:\n",
    "    file.write(message1)\n",
    "    file.write(message2)\n",
    "file.close()\n",
    "\n",
    "with open(\"bonjour.txt\", \"r\") as file:\n",
    "    text = file.read()\n",
    "    print(text)\n",
    "file.close()"
   ]
  },
  {
   "cell_type": "markdown",
   "id": "da2d4cb8-e2cb-4352-9896-c14c435552c8",
   "metadata": {},
   "source": [
    "Dans Jupyter Notebook, le symbole `?` est utilisé pour accéder à la documentation et à l'aide des fonctions et objets. C'est un raccourci pour accéder au système d'aide intégré dans Python et les environnements Jupyter."
   ]
  },
  {
   "cell_type": "code",
   "execution_count": null,
   "id": "a759560c-4e80-4e3e-9299-d5a3e053a119",
   "metadata": {},
   "outputs": [],
   "source": [
    "?open"
   ]
  },
  {
   "cell_type": "code",
   "execution_count": null,
   "id": "d2bd72fe-cb87-47b0-9b5f-78ef1f965f93",
   "metadata": {},
   "outputs": [],
   "source": [
    "?message1"
   ]
  },
  {
   "cell_type": "code",
   "execution_count": null,
   "id": "c2bf9f51-15ff-4300-ba5b-d3e02714ba90",
   "metadata": {},
   "outputs": [],
   "source": [
    "?message2"
   ]
  },
  {
   "cell_type": "markdown",
   "id": "be9022fa-8fcf-4b4f-a207-caa6766999b5",
   "metadata": {},
   "source": [
    "Le code suivant ouvre le fichier \"bonjour.txt\" en mode lecture, lit son contenu, l'affiche, puis ferme le fichier."
   ]
  },
  {
   "cell_type": "code",
   "execution_count": null,
   "id": "7cdfa760-f528-42db-bfa3-20a834221508",
   "metadata": {},
   "outputs": [],
   "source": [
    "with open(\"bonjour.txt\", \"r\") as file:\n",
    "    text = file.read()\n",
    "    print(text)"
   ]
  },
  {
   "cell_type": "markdown",
   "id": "5deb48a9",
   "metadata": {},
   "source": [
    "### b\\. readline()\n",
    "\n",
    "Cette fonction peut être utilisée pour lire un fichier ligne par ligne et non le contenu complet en un seul appel comme read()"
   ]
  },
  {
   "cell_type": "code",
   "execution_count": null,
   "id": "4968a038",
   "metadata": {},
   "outputs": [],
   "source": [
    "message1 = \"Bonjour le monde\\n\"\n",
    "message2 = \"Programmation en Python\"\n",
    "with open(\"bonjour.txt\", \"w\") as file:\n",
    "    file.write(message1)\n",
    "    file.write(message2)\n",
    "file.close()"
   ]
  },
  {
   "cell_type": "markdown",
   "id": "66af2345-c690-4597-a0b3-318787a5afb8",
   "metadata": {},
   "source": [
    "Utilisez `readline()` dans une boucle ou de manière itérative pour traiter chaque ligne d'un fichier séquentiellement. Cela est utile pour traiter des fichiers volumineux ou des fichiers où il est nécessaire de traiter chaque ligne indépendamment."
   ]
  },
  {
   "cell_type": "code",
   "execution_count": null,
   "id": "e75f54e2",
   "metadata": {},
   "outputs": [],
   "source": [
    "with open(\"bonjour.txt\", \"r\") as file:\n",
    "    text = file.readline()\n",
    "    print(text)\n",
    "file.close()"
   ]
  },
  {
   "cell_type": "code",
   "execution_count": null,
   "id": "8d257bc2",
   "metadata": {},
   "outputs": [],
   "source": [
    "message1 = \"Bonjour le monde\\n\"\n",
    "message2 = \"Programmation en Python\\n\"\n",
    "with open(\"bonjour.txt\", \"w\") as file:\n",
    "    file.write(message1)\n",
    "    file.write(message2)\n",
    "file.close()"
   ]
  },
  {
   "cell_type": "code",
   "execution_count": null,
   "id": "3cbdd6e7",
   "metadata": {},
   "outputs": [],
   "source": [
    "with open(\"bonjour.txt\", \"r\") as file:\n",
    "    for line in file:\n",
    "        print(line)\n",
    "file.close()"
   ]
  },
  {
   "cell_type": "markdown",
   "id": "6190745d",
   "metadata": {},
   "source": [
    "**Question 1:** Copiez un fichier HTML dans votre répertoire. Ecrire un programme\n",
    "en Python pour obtenir les valeurs suivantes :\n",
    "\n",
    "- nombre de caractères dans le fichier HTML\n",
    "- nombre de lignes dans le fichier HTML\n",
    "- nombre de mots dans le fichier HTML\n",
    "- les vingt premiers mots du fichier HTML\n",
    "- des mots distincts dans le fichier HTML\n",
    "\n"
   ]
  },
  {
   "cell_type": "markdown",
   "id": "9a0503ce",
   "metadata": {},
   "source": [
    "**Question 2:** Copier le CSV\n",
    "du fichier population.csv du dossier **data**. Le fichier contient les valeurs de population entre\n",
    "1901 et 2016. Écrivez un programme en Python pour obtenir la valeur maximale.\n",
    "\n",
    "- la valeur maximale de la population\n",
    "- la valeur minimale de la population\n"
   ]
  },
  {
   "cell_type": "markdown",
   "id": "3d2f2208",
   "metadata": {},
   "source": [
    "## Exercise 6 ★★★\n",
    "\n",
    "### NumPy\n",
    "\n",
    "**NumPy**, une bibliothèque populaire pour les calculs numériques, offre des moyens efficaces d'effectuer des opérations mathématiques sur des tableaux, y compris des matrices. Les opérations NumPy sont optimisées pour les performances, en particulier avec de grands ensembles de données."
   ]
  },
  {
   "cell_type": "code",
   "execution_count": null,
   "id": "0fb40c9b",
   "metadata": {},
   "outputs": [],
   "source": [
    "import numpy as np"
   ]
  },
  {
   "cell_type": "markdown",
   "id": "61362390",
   "metadata": {},
   "source": [
    "### a. Les opérations sur les matrices"
   ]
  },
  {
   "cell_type": "code",
   "execution_count": null,
   "id": "3d4e2ad2",
   "metadata": {},
   "outputs": [],
   "source": [
    "a1 = [1, 2, 3, 4]\n",
    "b1 = [5, 6, 7, 8]"
   ]
  },
  {
   "cell_type": "markdown",
   "id": "10148164-8c1a-4ee6-b28d-215f09f5f954",
   "metadata": {},
   "source": [
    "Addition de matrices avec `np.add()`"
   ]
  },
  {
   "cell_type": "code",
   "execution_count": null,
   "id": "e5ef4bbb",
   "metadata": {},
   "outputs": [],
   "source": [
    "c1 = np.add(a1, b1)\n",
    "print(c1)"
   ]
  },
  {
   "cell_type": "markdown",
   "id": "242e58f8-f33f-4018-8de3-58d4d37d3739",
   "metadata": {},
   "source": [
    "Soustraction de matrices avec `np.subtract()`"
   ]
  },
  {
   "cell_type": "code",
   "execution_count": null,
   "id": "b37b9e14",
   "metadata": {},
   "outputs": [],
   "source": [
    "c1 = np.subtract(a1, b1)\n",
    "print(c1)"
   ]
  },
  {
   "cell_type": "markdown",
   "id": "ad279266-9103-49e5-93f9-4ff79dae80f9",
   "metadata": {},
   "source": [
    "Multiplication de matrices avec `np.multiply()`"
   ]
  },
  {
   "cell_type": "code",
   "execution_count": null,
   "id": "16b75db6",
   "metadata": {},
   "outputs": [],
   "source": [
    "c1 = np.multiply(a1, b1)\n",
    "print(c1)"
   ]
  },
  {
   "cell_type": "code",
   "execution_count": null,
   "id": "73e9eefb",
   "metadata": {},
   "outputs": [],
   "source": [
    "c1 = np.multiply(4, b1)\n",
    "print(c1)"
   ]
  },
  {
   "cell_type": "markdown",
   "id": "42f92013-323c-4b9a-b6eb-a45f6d9262f4",
   "metadata": {},
   "source": [
    "L'objectif de `np.dot` est de calculer le produit scalaire (ou produit matriciel) entre deux tableaux NumPy `a1` et `b1`.\n",
    "\n",
    "- Si `a1` et `b1` sont des **vecteurs** (tableaux 1D), alors `np.dot(a1, b1)` renvoie le **produit scalaire** des deux vecteurs, qui est un nombre unique obtenu en multipliant les éléments correspondants des vecteurs et en les additionnant.\n",
    "  \n",
    "- Si `a1` et `b1` sont des **matrices** (tableaux 2D), alors `np.dot(a1, b1)` calcule le **produit matriciel** entre les deux matrices.\n",
    "\n",
    "`np.dot` est utilisé pour effectuer un produit scalaire (ou matriciel) en fonction des dimensions des entrées."
   ]
  },
  {
   "cell_type": "code",
   "execution_count": null,
   "id": "907afb20",
   "metadata": {},
   "outputs": [],
   "source": [
    "c1 = np.dot(a1, b1)\n",
    "print(c1)"
   ]
  },
  {
   "cell_type": "code",
   "execution_count": null,
   "id": "157f14c8",
   "metadata": {},
   "outputs": [],
   "source": [
    "c1 = np.dot(5, b1)\n",
    "print(c1)"
   ]
  },
  {
   "cell_type": "code",
   "execution_count": null,
   "id": "3fe38277",
   "metadata": {},
   "outputs": [],
   "source": [
    "b1 = [5, 6, 7, 8]\n",
    "c1 = np.dot(a1, b1)\n",
    "print(c)"
   ]
  },
  {
   "cell_type": "markdown",
   "id": "96006280-222d-4d8e-861f-8d01007f29b5",
   "metadata": {},
   "source": [
    "La fonction `np.average()` de NumPy permet de calculer la **moyenne pondérée** (ou moyenne arithmétique) d'un tableau ou d'une liste de valeurs. Par défaut, elle calcule la moyenne simple, mais elle offre également la possibilité d'utiliser des **poids** pour chaque élément du tableau, si spécifié.\n"
   ]
  },
  {
   "cell_type": "code",
   "execution_count": null,
   "id": "3e70c40a",
   "metadata": {},
   "outputs": [],
   "source": [
    "a1 = [1, 2, 3, 4, 5 ]\n",
    "moyen = np.average(a1)\n",
    "print(moyen)"
   ]
  },
  {
   "cell_type": "markdown",
   "id": "b3f8336c",
   "metadata": {},
   "source": [
    "### b. Tranposition matricielle"
   ]
  },
  {
   "cell_type": "markdown",
   "id": "ebc16584-7974-417d-87e1-949da4409ef1",
   "metadata": {},
   "source": [
    "L'objectif de `b1.T` en NumPy est d'afficher la **transposée** du tableau `b1`, c'est-à-dire d'inverser ses dimensions. Si `b1` est un vecteur ou une matrice, la transposition échange les lignes et les colonnes."
   ]
  },
  {
   "cell_type": "code",
   "execution_count": null,
   "id": "4197de9a",
   "metadata": {},
   "outputs": [],
   "source": [
    "b1 = [[5, 6, 7, 8, 9], [1, 2, 3, 4, 5]]\n",
    "print(b1)\n",
    "b1 = np.array(b1)\n",
    "print(b1.T)"
   ]
  },
  {
   "cell_type": "markdown",
   "id": "b4c22195",
   "metadata": {},
   "source": [
    "### c. Séparer une matrice en deux, horizontalement et verticalement"
   ]
  },
  {
   "cell_type": "markdown",
   "id": "b663b0a0-9a01-423b-8194-d33a89412078",
   "metadata": {},
   "source": [
    "La fonction `np.hsplit()` divise un tableau horizontalement (le long des colonnes) aux indices spécifiés."
   ]
  },
  {
   "cell_type": "code",
   "execution_count": null,
   "id": "1c987fce",
   "metadata": {},
   "outputs": [],
   "source": [
    "a = [[0, 0, 0], [0, 1, 0], [1, 0, 0], [1, 1, 1]]\n",
    "a = np.array(a)\n",
    "\n",
    "a = np.hsplit(a, [2])\n",
    "\n",
    "a1 = a[0]\n",
    "a2 = a[1]\n",
    "print(a1)\n",
    "print(a2)"
   ]
  },
  {
   "cell_type": "code",
   "execution_count": null,
   "id": "b9ac03fa-6a8b-4ad1-a8e1-973fa1dadf48",
   "metadata": {},
   "outputs": [],
   "source": [
    "?np.hsplit"
   ]
  },
  {
   "cell_type": "markdown",
   "id": "ea306797-7639-4636-87fe-359bac7ab8ce",
   "metadata": {},
   "source": [
    "La fonction `np.vsplit()` divise un tableau verticalement (le long des lignes) aux indices spécifiés."
   ]
  },
  {
   "cell_type": "code",
   "execution_count": null,
   "id": "08f37430-8400-4fbe-b27a-827aee0b3a88",
   "metadata": {},
   "outputs": [],
   "source": [
    "?np.vsplit"
   ]
  },
  {
   "cell_type": "code",
   "execution_count": null,
   "id": "d126f51f",
   "metadata": {},
   "outputs": [],
   "source": [
    "a = [[0, 0, 0], [0, 1, 0], [1, 0, 0], [1, 1, 1]]\n",
    "a = np.array(a)\n",
    "\n",
    "a = np.vsplit(a, [2])\n",
    "\n",
    "a1 = a[0]\n",
    "a2 = a[1]\n",
    "print(a1)\n",
    "print(a2)"
   ]
  },
  {
   "cell_type": "markdown",
   "id": "bd4a5956",
   "metadata": {},
   "source": [
    "### d. Les opérations sur les matrices bidimensionnelles"
   ]
  },
  {
   "cell_type": "code",
   "execution_count": null,
   "id": "c92ef0d8",
   "metadata": {},
   "outputs": [],
   "source": [
    "a2 = [[1, 2, 3, 4], [1, 2, 3, 4]]\n",
    "b2 = [[5, 6, 7, 8], [5, 6, 7, 8]]"
   ]
  },
  {
   "cell_type": "code",
   "execution_count": null,
   "id": "f20311ce",
   "metadata": {},
   "outputs": [],
   "source": [
    "c2 = np.add(a2, b2)\n",
    "print(c2)"
   ]
  },
  {
   "cell_type": "code",
   "execution_count": null,
   "id": "603b9d4c",
   "metadata": {},
   "outputs": [],
   "source": [
    "c2 = np.subtract(a2, b2)\n",
    "print(c2)"
   ]
  },
  {
   "cell_type": "code",
   "execution_count": null,
   "id": "a0e94ec9",
   "metadata": {},
   "outputs": [],
   "source": [
    "c2 = np.multiply(a2, b2)\n",
    "print(c2)"
   ]
  },
  {
   "cell_type": "code",
   "execution_count": null,
   "id": "b5762c57",
   "metadata": {},
   "outputs": [],
   "source": [
    "a2 = [[1, 2, 3, 4], [1, 2, 3, 4]]\n",
    "a2 = np.array(a2)\n",
    "b2 = [[5, 6, 7, 8], [5, 6, 7, 8]]\n",
    "b2 = np.array(b2)\n",
    "c2 = np.dot(a2, b2.T)\n",
    "print(c2)"
   ]
  },
  {
   "cell_type": "markdown",
   "id": "841cf9b5",
   "metadata": {},
   "source": [
    "### e. Redéfinir une matrice"
   ]
  },
  {
   "cell_type": "markdown",
   "id": "a81139b7-04e4-4663-aaec-6956e62d50d0",
   "metadata": {},
   "source": [
    "**.reshape()** : L'objectif de `b2.reshape(m, n)` en NumPy est de **redimensionner** le tableau `b2` en une nouvelle forme avec **m lignes et n colonnes**. Cette méthode réorganise les éléments de `b2` sans en modifier les valeurs, tant que le nombre total d'éléments reste le même. \n",
    "\n",
    "Par exemple, si `b2` a 8 éléments au total, `b2.reshape(4, 2)` les réarrangera en un tableau 2D de 4 lignes et 2 colonnes."
   ]
  },
  {
   "cell_type": "code",
   "execution_count": null,
   "id": "8b2863b3",
   "metadata": {},
   "outputs": [],
   "source": [
    "b2.reshape(4, 2)\n",
    "print(b2)"
   ]
  },
  {
   "cell_type": "markdown",
   "id": "7710d2e3",
   "metadata": {},
   "source": [
    "### f. Créer des matrices avec des nombres aléatoires"
   ]
  },
  {
   "cell_type": "markdown",
   "id": "4510b304-7ca5-4bd9-b070-399fbf9590ed",
   "metadata": {},
   "source": [
    "**`np.random.rand()`** génère un tableau de nombres aléatoires uniformément distribués entre 0 et 1. **`np.zeros()`** crée un tableau rempli de zéros de la forme spécifiée."
   ]
  },
  {
   "cell_type": "code",
   "execution_count": null,
   "id": "11b8d93e",
   "metadata": {},
   "outputs": [],
   "source": [
    "a = np.random.rand()\n",
    "print(a)"
   ]
  },
  {
   "cell_type": "code",
   "execution_count": null,
   "id": "02c3250b",
   "metadata": {},
   "outputs": [],
   "source": [
    "a = np.random.rand(1)\n",
    "print(a)"
   ]
  },
  {
   "cell_type": "code",
   "execution_count": null,
   "id": "4e8fea31",
   "metadata": {},
   "outputs": [],
   "source": [
    "a = np.random.rand(2, 5)\n",
    "print(a)"
   ]
  },
  {
   "cell_type": "code",
   "execution_count": null,
   "id": "44f7e20d",
   "metadata": {},
   "outputs": [],
   "source": [
    "a = np.random.rand(2, 3, 3)\n",
    "print(a)"
   ]
  },
  {
   "cell_type": "code",
   "execution_count": null,
   "id": "b4baaa3f",
   "metadata": {},
   "outputs": [],
   "source": [
    "a = np.zeros(1)\n",
    "print(a)"
   ]
  },
  {
   "cell_type": "code",
   "execution_count": null,
   "id": "e52feea1",
   "metadata": {},
   "outputs": [],
   "source": [
    "a = np.zeros(1, dtype=int)\n",
    "print(a)"
   ]
  },
  {
   "cell_type": "code",
   "execution_count": null,
   "id": "b02c07f3",
   "metadata": {},
   "outputs": [],
   "source": [
    "a = np.zeros((2, 5), dtype=int)\n",
    "print(a)"
   ]
  },
  {
   "cell_type": "markdown",
   "id": "5cb0d48b-b4c7-49f8-b7e9-baa7da0e2770",
   "metadata": {},
   "source": [
    "**Question:** Lisez les données présentes dans le fichier population.csv dans des tableaux en utilisant les fonctions numpy et calculez les valeurs suivantes:\n",
    "\n",
    "- la valeur maximale de la population et l'année\n",
    "- la valeur minimale de la population et l'année\n"
   ]
  }
 ],
 "metadata": {
  "kernelspec": {
   "display_name": "Python 3 (ipykernel)",
   "language": "python",
   "name": "python3"
  },
  "language_info": {
   "codemirror_mode": {
    "name": "ipython",
    "version": 3
   },
   "file_extension": ".py",
   "mimetype": "text/x-python",
   "name": "python",
   "nbconvert_exporter": "python",
   "pygments_lexer": "ipython3",
   "version": "3.10.12"
  }
 },
 "nbformat": 4,
 "nbformat_minor": 5
}
