{
 "cells": [
  {
   "cell_type": "markdown",
   "id": "b1e14727",
   "metadata": {},
   "source": [
    "# Programming Session 1\n",
    "\n",
    "## Goals\n",
    "\n",
    "-   Parsing and working with CSV, TSV and JSON files\n",
    "-   Querying external data sources\n",
    "-   Data analyses\n",
    "\n",
    "### Exercises\n",
    "\n",
    "1.  Parsing and reading CSV/TSV files\n",
    "2.  Parsing and reading JSON files\n",
    "3.  Querying external data sources (Query endpoints and API)\n",
    "4.  Performing classical data analyses\n",
    "\n"
   ]
  },
  {
   "cell_type": "markdown",
   "id": "7b83f340-5d78-4d94-99a0-e71eed5331f3",
   "metadata": {
    "jp-MarkdownHeadingCollapsed": true
   },
   "source": [
    "### Screenshots\n",
    "\n",
    "Screenshots have been provided so that you can check and compare whether the output you have is the same as what we want from the step (or exercise) in question."
   ]
  },
  {
   "cell_type": "markdown",
   "id": "3769e162",
   "metadata": {},
   "source": [
    "## Exercise 1 ★\n"
   ]
  },
  {
   "attachments": {},
   "cell_type": "markdown",
   "id": "fc980585",
   "metadata": {},
   "source": [
    "We first install the necessary packages.In Jupyter notebooks, you can use the `!` command to run shell commands directly from a notebook cell. To install Python packages such as NumPy, pandas, you can use the following command:"
   ]
  },
  {
   "cell_type": "code",
   "execution_count": null,
   "id": "ea4eaabc-7c47-4a05-98f9-c99bea53bab6",
   "metadata": {},
   "outputs": [],
   "source": [
    "!pip3 install numpy pandas matplotlib sparqlwrapper"
   ]
  },
  {
   "cell_type": "markdown",
   "id": "5471da6e-6ef7-40e1-b7b3-633e03fd65f5",
   "metadata": {},
   "source": [
    "To import the NumPy, pandas libraries in a Jupyter notebook, you use the following Python import statements:"
   ]
  },
  {
   "cell_type": "code",
   "execution_count": null,
   "id": "1d45b003-82b7-481d-b491-a818a4b46f99",
   "metadata": {},
   "outputs": [],
   "source": [
    "import numpy as np\n",
    "import pandas as pd\n",
    "import matplotlib as plot\n",
    "import SPARQLWrapper as sw"
   ]
  },
  {
   "cell_type": "markdown",
   "id": "98ee95d8-069b-4850-b824-6e7da46800ea",
   "metadata": {},
   "source": [
    "The `__version__ `attribute is a common way to access the version information of a Python package."
   ]
  },
  {
   "cell_type": "code",
   "execution_count": null,
   "id": "1054cdd4-e2db-4e14-b327-85a8ed427863",
   "metadata": {},
   "outputs": [],
   "source": [
    "print(np.__version__)\n",
    "print(pd.__version__)\n",
    "print(plot.__version__)\n",
    "print(sw.__version__)"
   ]
  },
  {
   "cell_type": "markdown",
   "id": "805f1ac0-711b-42a1-90fd-f45a33b69d50",
   "metadata": {},
   "source": [
    "Practise the exercises given in [practicals 0](../practical0/practical0.ipynb)."
   ]
  },
  {
   "cell_type": "markdown",
   "id": "7216f3dd",
   "metadata": {},
   "source": [
    "## Exercise 2 ★\n",
    "\n",
    "Most of the time, we work with CSV (comma-separated values) files for\n",
    "data analysis. A CSV file consits of one or more lines and each line has\n",
    "one or more values separated by commas. One can consider every line as a\n",
    "row and every value in a row as a column value. The first row is\n",
    "sometimes used to describe the column names.\n",
    "\n",
    "Copy the file\n",
    "[pl.csv](../../data/pl.csv) to\n",
    "your current working directory (where you are running Jupyter: TP1) and\n",
    "use the following code to parse the csv file. Note the column names and\n",
    "datatypes (U100, i4), where U100 corresponds to 100-character unicode string and i4 corresponds to 32-bit signed integer.\n",
    "\n",
    "Please check the complete list of dtypes [here](https://numpy.org/doc/stable/reference/arrays.dtypes.html).\n"
   ]
  },
  {
   "cell_type": "code",
   "execution_count": null,
   "id": "84218a1a",
   "metadata": {},
   "outputs": [],
   "source": [
    "import numpy as np\n",
    "\n",
    "dataset = np.loadtxt(\n",
    "    \"../../data/pl.csv\",  # Change this value to the path of your CSV file\n",
    "    dtype={\"names\": (\"name\", \"year\"), \"formats\": (\"U100\", \"i4\")},\n",
    "    skiprows=1,  # skip the first row, since it's the header\n",
    "    delimiter=\",\",  # the separator is comma since it is a CSV file\n",
    "    encoding=\"UTF-8\",  # UTF-8 encoding\n",
    ")\n",
    "print(dataset)"
   ]
  },
  {
   "cell_type": "markdown",
   "id": "319d3dbe-35b0-42dd-a79c-b3f76085ae03",
   "metadata": {},
   "source": [
    "- **`np.loadtxt`**: This function loads data from a text file, with each row in the text file being converted to a NumPy array element.\n",
    "- **`\"../data/pl.csv\"`**: The path to the CSV file. You need to change this to the actual path where your CSV file is located.\n",
    "- **`dtype={\"names\": (\"name\", \"year\"), \"formats\": (\"U100\", \"i4\")}`**: Specifies the data type for the resulting NumPy array. Here, `dtype` is defined as a dictionary with:\n",
    "  - `names`: A tuple specifying the names of the columns.\n",
    "  - `formats`: A tuple specifying the data type of each column. `\"U100\"` stands for a Unicode string of maximum length 100, and `\"i4\"` stands for a 4-byte integer.\n",
    "- **`skiprows=1`**: This parameter skips the first row of the CSV file, which is assumed to be the header.\n",
    "- **`delimiter=\",\"`**: Specifies the delimiter that separates the values in the CSV file. Here, it is a comma.\n",
    "- **`encoding=\"UTF-8\"`**: Specifies the encoding of the file. UTF-8 is a common encoding for text files."
   ]
  },
  {
   "cell_type": "markdown",
   "id": "137208b8-0e3b-40f4-967f-a01e0cbfe662",
   "metadata": {},
   "source": [
    "### Important Notes:\n",
    "\n",
    "1. **File Path**: Ensure the file path (`\"../data/pl.csv\"`) is correct relative to your Jupyter notebook or script. You might need to adjust it depending on where your CSV file is located.\n",
    "2. **CSV File Structure**: The CSV file should have a header row that matches the column names specified in the `dtype` parameter, and the data should follow in subsequent rows.\n",
    "3. **Column Data Types**: Ensure that the data types (`\"U100\"` for strings and `\"i4\"` for integers) match the actual data in your CSV file.\n"
   ]
  },
  {
   "attachments": {
    "../../images/numpycsv.png": {
     "image/png": "[encoded data removed]"
    }
   },
   "cell_type": "markdown",
   "id": "af7d9766",
   "metadata": {},
   "source": [
    "![](attachment:../../images/numpycsv.png)\n",
    "\n",
    "[CSV support in\n",
    "numpy](https://docs.scipy.org/doc/numpy/reference/generated/numpy.loadtxt.html)\n",
    "(**Ref:**\n",
    "(https://docs.scipy.org/doc/numpy/reference/generated/numpy.loadtxt.html))\n",
    "is different from Python's default [CSV\n",
    "reader](https://docs.python.org/3.9/library/csv.html) (**Ref:**\n",
    "(https://docs.python.org/3.9/library/csv.html))\n",
    "because of its capability to support the [data\n",
    "types](https://docs.scipy.org/doc/numpy/reference/arrays.dtypes.html)\n",
    "(**Ref:**\n",
    "(https://docs.scipy.org/doc/numpy/reference/arrays.dtypes.html)).\n",
    "Before continuing, take a deep look at\n",
    "[numpy.loadtxt](https://docs.scipy.org/doc/numpy/reference/generated/numpy.loadtxt.html)\n",
    "(**Ref:**\n",
    "(https://docs.scipy.org/doc/numpy/reference/generated/numpy.loadtxt.html)).\n",
    "\n",
    "  \n",
    "\n",
    "Copy the file\n",
    "[pl.tsv](../../data/pl.tsv) to\n",
    "your current working directory and use the following code to parse the\n",
    "tsv file.\n",
    "\n"
   ]
  },
  {
   "cell_type": "code",
   "execution_count": null,
   "id": "3e832f11",
   "metadata": {},
   "outputs": [],
   "source": [
    "import numpy as np\n",
    "\n",
    "dataset = np.loadtxt(\n",
    "    \"../../data/pl.tsv\",  # Change this value to the path of your CSV file\n",
    "    dtype={\"names\": (\"name\", \"year\"), \"formats\": (\"U100\", \"i4\")},\n",
    "    skiprows=1,\n",
    "    delimiter=\"\\t\",\n",
    "    encoding=\"UTF-8\",\n",
    ")\n",
    "print(dataset)"
   ]
  },
  {
   "cell_type": "markdown",
   "id": "0e308a35",
   "metadata": {},
   "source": [
    "Note the changes in the above code compared to the previous one. A TSV\n",
    "file is a tab-separated file, i.e., the column values are separated by a\n",
    "tab ((\\\\t)).\n",
    "\n"
   ]
  },
  {
   "cell_type": "markdown",
   "id": "b48fc267-43bf-4676-bf28-f1b42438c439",
   "metadata": {},
   "source": [
    "- **`np.loadtxt`**: This function loads data from a text file, with each row in the text file being converted to a NumPy array element.\n",
    "- **`\"../data/pl.tsv\"`**: The path to the TSV file. You need to change this to the actual path where your TSV file is located.\n",
    "- **`dtype={\"names\": (\"name\", \"year\"), \"formats\": (\"U100\", \"i4\")}`**: Specifies the data type for the resulting NumPy array. Here, `dtype` is defined as a dictionary with:\n",
    "  - `names`: A tuple specifying the names of the columns.\n",
    "  - `formats`: A tuple specifying the data type of each column. `\"U100\"` stands for a Unicode string of maximum length 100, and `\"i4\"` stands for a 4-byte integer.\n",
    "- **`skiprows=1`**: This parameter skips the first row of the TSV file, which is assumed to be the header.\n",
    "- **`delimiter=\"\\t\"`**: Specifies the delimiter that separates the values in the TSV file. Here, it is a tab character.\n",
    "- **`encoding=\"UTF-8\"`**: Specifies the encoding of the file. UTF-8 is a common encoding for text files."
   ]
  },
  {
   "cell_type": "markdown",
   "id": "cb57e2ab-8bde-49cf-aeb3-92f7bdba2bb1",
   "metadata": {},
   "source": [
    "For counting the number of rows in your dataset, you can use `len()`"
   ]
  },
  {
   "cell_type": "code",
   "execution_count": null,
   "id": "01e23f1a-5efe-472b-9739-f14d3ef9c06c",
   "metadata": {},
   "outputs": [],
   "source": [
    "# Print the number of elements in the dataset\n",
    "print(len(dataset))"
   ]
  },
  {
   "cell_type": "markdown",
   "id": "56ae042e-9997-4fab-b286-4971e98abec5",
   "metadata": {},
   "source": [
    "You can also display the output of variables and methods in a notebook without `print()`"
   ]
  },
  {
   "cell_type": "code",
   "execution_count": null,
   "id": "cd33a602-1aab-40dd-8a11-414d7649153e",
   "metadata": {},
   "outputs": [],
   "source": [
    "len(dataset)"
   ]
  },
  {
   "cell_type": "markdown",
   "id": "e803e78a-87c8-4443-871a-fbf330394e57",
   "metadata": {},
   "source": [
    "### Explore Column-Wise Data Access"
   ]
  },
  {
   "cell_type": "markdown",
   "id": "a8d6f170-3ebd-4ca4-a0c0-12e43190fe0e",
   "metadata": {},
   "source": [
    "Extract and print only the \"name\" column from the dataset."
   ]
  },
  {
   "cell_type": "code",
   "execution_count": null,
   "id": "5e6f5444-73a4-4990-b49e-69aeceac99aa",
   "metadata": {},
   "outputs": [],
   "source": [
    "dataset[\"name\"]"
   ]
  },
  {
   "cell_type": "markdown",
   "id": "650d7490-7378-402c-9bdc-545f02290406",
   "metadata": {},
   "source": [
    "Extract and print only the \"year\" column from the dataset."
   ]
  },
  {
   "cell_type": "code",
   "execution_count": null,
   "id": "718abe6c-9034-452c-8d29-765f0e62d6ff",
   "metadata": {},
   "outputs": [],
   "source": [
    "dataset[\"year\"]"
   ]
  },
  {
   "cell_type": "markdown",
   "id": "992fef73-67f9-4f55-ae0c-1b3fec4ebb14",
   "metadata": {},
   "source": [
    "### Filter Data by Year"
   ]
  },
  {
   "cell_type": "markdown",
   "id": "2b4c71d1-5a1b-4916-ae84-4ecdfffa6408",
   "metadata": {},
   "source": [
    "Find and print all rows where the year is greater than 1960."
   ]
  },
  {
   "cell_type": "code",
   "execution_count": null,
   "id": "b5ecc5f4-4b21-4e8b-8611-ff16db07d5fc",
   "metadata": {},
   "outputs": [],
   "source": [
    "filtered_data = dataset[dataset[\"year\"] > 1960]\n",
    "filtered_data"
   ]
  },
  {
   "cell_type": "markdown",
   "id": "e3e4f287-64a9-406d-b9fd-5f43344c22fa",
   "metadata": {},
   "source": [
    "### Handle Missing or Incorrect Data"
   ]
  },
  {
   "cell_type": "markdown",
   "id": "ac2e086b-9add-4ae5-b082-88de23538571",
   "metadata": {},
   "source": [
    "Check the following code which contains some missing values"
   ]
  },
  {
   "cell_type": "code",
   "execution_count": null,
   "id": "70573278-c12b-4195-b35e-9e29148925fb",
   "metadata": {},
   "outputs": [],
   "source": [
    "import numpy as np\n",
    "\n",
    "# Save a modified CSV file with a missing value (manually or via script)\n",
    "np.savetxt(\"pl_missing.csv\", [(\"Simula\", 1962), (\"Swift\", \"\")],  header=\"name,year\", delimiter=\",\", fmt=\"%s\")\n",
    "\n",
    "# Attempt to load with np.loadtxt (will cause an error)\n",
    "try:\n",
    "    dataset_with_missing_values = np.loadtxt(\"pl_missing.csv\", dtype={\"names\": (\"name\", \"year\"), \"formats\": (\"U100\", \"i4\")}, delimiter=\",\")\n",
    "except ValueError as e:\n",
    "    print(\"Error:\", e)"
   ]
  },
  {
   "cell_type": "code",
   "execution_count": null,
   "id": "ebcad291-0e6f-4125-8cd3-e7eef6ba5302",
   "metadata": {},
   "outputs": [],
   "source": [
    "# Load using np.genfromtxt (handles missing values)\n",
    "dataset_with_missing_values = np.genfromtxt(\"pl_missing.csv\", {\"names\": (\"name\", \"year\"), \"formats\": (\"U100\", \"i4\")}, delimiter=\",\", encoding=\"UTF-8\")\n",
    "dataset_with_missing_values"
   ]
  },
  {
   "cell_type": "markdown",
   "id": "13730729-fedc-465d-896b-54bc4e69166b",
   "metadata": {},
   "source": [
    "Using filling_values for a Specific Column"
   ]
  },
  {
   "cell_type": "code",
   "execution_count": null,
   "id": "216e0012-88db-453e-b13b-188d01495ca2",
   "metadata": {},
   "outputs": [],
   "source": [
    "# Load the dataset with default values for missing entries\n",
    "dataset_with_missing_values = np.genfromtxt(\n",
    "    \"pl_missing.csv\",\n",
    "    dtype=[(\"name\", \"U100\"), (\"year\", \"i4\")],\n",
    "    delimiter=\",\",\n",
    "    names=True,  # First row contains column names\n",
    "    encoding=\"UTF-8\",\n",
    "    missing_values=\"\",  # Treat empty values as missing\n",
    "    filling_values={\"year\": 0}  # Replace missing years with 0\n",
    ")\n",
    "\n",
    "dataset_with_missing_values"
   ]
  },
  {
   "cell_type": "markdown",
   "id": "2602bb23-f119-4947-8c93-6ba2b0149e7b",
   "metadata": {},
   "source": [
    "`np.loadtxt()` will raise an error due to missing values. `np.genfromtxt()` will load the dataset, replacing missing values with nan or a default value."
   ]
  },
  {
   "cell_type": "markdown",
   "id": "c7bc09fa-4388-4c3f-960e-8dd05d556878",
   "metadata": {},
   "source": [
    "### Convert Data to Pandas DataFrame"
   ]
  },
  {
   "cell_type": "code",
   "execution_count": null,
   "id": "ee1325d4-5f5d-41ca-b508-4f7cca36e509",
   "metadata": {},
   "outputs": [],
   "source": [
    "import pandas as pd\n",
    "\n",
    "# Convert NumPy structured array to Pandas DataFrame\n",
    "df = pd.DataFrame(dataset)\n",
    "\n",
    "# Print datafram\n",
    "df"
   ]
  },
  {
   "cell_type": "markdown",
   "id": "2c698304-8f67-439e-b3ca-b350cfa29430",
   "metadata": {},
   "source": [
    "**Question**: What is the difference between np.loadtxt() and np.genfromtxt() when reading CSV files? When should you prefer one over the other?"
   ]
  },
  {
   "cell_type": "markdown",
   "id": "7b5387bb",
   "metadata": {},
   "source": [
    "## Exercise 3 ★★\n",
    "\n",
    "Most of the external data sources may provide their data in JSON format.\n",
    "Our next exercise is to parse JSON files. Copy the file\n",
    "[pl.json](../../data/pl.json) to\n",
    "your current working directory and use the following code to parse the\n",
    "JSON file. In this exercise, we use [Pandas python\n",
    "package](https://pandas.pydata.org/pandas-docs/stable/) (**Ref:**\n",
    "(https://pandas.pydata.org/pandas-docs/stable/)) to\n",
    "parse the JSON file to obtain a [Pandas DataFrame](https://pandas.pydata.org/pandas-docs/stable/generated/pandas.DataFrame.html)\n",
    "(**Ref:**\n",
    "(https://pandas.pydata.org/pandas-docs/stable/generated/pandas.DataFrame.html)).\n",
    "Try using methods like\n",
    "[transpose](https://pandas.pydata.org/pandas-docs/stable/generated/pandas.DataFrame.transpose.html#pandas.DataFrame.transpose)\n",
    "(**Ref:**\n",
    "(https://pandas.pydata.org/pandas-docs/stable/generated/pandas.DataFrame.transpose.html#pandas.DataFrame.transpose)),\n",
    "[count](https://pandas.pydata.org/pandas-docs/stable/generated/pandas.DataFrame.count.html#pandas.DataFrame.count)\n",
    "(**Ref:**\n",
    "(https://pandas.pydata.org/pandas-docs/stable/generated/pandas.DataFrame.count.html#pandas.DataFrame.count))\n",
    "etc.\n",
    "\n",
    "Before continuing this exercise, please practice working with Pandas.\n",
    "Take a look at [10 minutes to pandas](https://pandas.pydata.org/pandas-docs/stable/user_guide/10min.html)\n",
    "(**Ref:** (https://pandas.pydata.org/pandas-docs/stable/user_guide/10min.html)).\n",
    "\n"
   ]
  },
  {
   "cell_type": "code",
   "execution_count": null,
   "id": "9d8eb5bd",
   "metadata": {},
   "outputs": [],
   "source": [
    "from pandas import json_normalize\n",
    "import pandas as pd\n",
    "import json\n",
    "\n",
    "# Load JSON data from a file\n",
    "data = json.load(open(\"../../data/pl.json\"))\n",
    "\n",
    "# Convert JSON data to a pandas DataFrame\n",
    "dataframe = json_normalize(data)\n",
    "\n",
    "print(dataframe)"
   ]
  },
  {
   "cell_type": "markdown",
   "id": "9f7f4a69-09a1-468c-8661-784763901fcf",
   "metadata": {},
   "source": [
    "This code is using Python's pandas library to work with JSON data.\n",
    "\n",
    "*. **Imports**: \n",
    "   - `from pandas import json_normalize`: Imports the `json_normalize` function from the pandas library. This function is used to flatten JSON data into a DataFrame.\n",
    "   - `import pandas as pd`: Imports the pandas library with the alias `pd`, which is a common convention.\n",
    "   - `import json`: Imports Python's built-in `json` module for handling JSON data.\n",
    "\n",
    "*. **Loading JSON Data**:\n",
    "   - `data = json.load(open(\"../data/pl.json\"))`: Opens a JSON file located at `\"../data/pl.json\"` and loads its contents into the `data` variable. The `json.load()` function reads the JSON file and parses it into a Python dictionary.\n",
    "\n",
    "* **Normalizing JSON into a DataFrame**:\n",
    "   - `dataframe = json_normalize(data)`: Uses the `json_normalize()` function from pandas to convert the nested JSON data (`data`) into a flat table-like structure called a DataFrame. This step is particularly useful for analyzing structured JSON data where nested objects or arrays need to be represented in tabular form.\n"
   ]
  },
  {
   "cell_type": "markdown",
   "id": "e7dab697-0553-43f7-825a-c5965e240dea",
   "metadata": {},
   "source": [
    "And the output without `print()`"
   ]
  },
  {
   "cell_type": "code",
   "execution_count": null,
   "id": "0b67eb8c-9fe0-41ff-9e17-51991ea9595e",
   "metadata": {},
   "outputs": [],
   "source": [
    "dataframe"
   ]
  },
  {
   "cell_type": "markdown",
   "id": "5da40fa0-e4fe-4aee-875c-5fa6ed944f45",
   "metadata": {},
   "source": [
    "To display the values of the column **year**:"
   ]
  },
  {
   "cell_type": "code",
   "execution_count": null,
   "id": "39951e75-53a3-44b8-9bd7-014afd681af4",
   "metadata": {},
   "outputs": [],
   "source": [
    "# Select the \"year\" column from the dataframe\n",
    "dataframe[\"year\"]"
   ]
  },
  {
   "cell_type": "markdown",
   "id": "c9f11b2a-dff4-4698-9102-9c72d6e66a61",
   "metadata": {},
   "source": [
    "To display the values of the column **languageLabel**:"
   ]
  },
  {
   "cell_type": "code",
   "execution_count": null,
   "id": "677bd67b-2a2a-4fa7-bc39-b55a92019ea4",
   "metadata": {},
   "outputs": [],
   "source": [
    "# Select the \"languageLabel\" column from the dataframe\n",
    "dataframe[\"languageLabel\"]"
   ]
  },
  {
   "cell_type": "markdown",
   "id": "f1c5ea65-1046-4ba2-bfc4-226d48754fde",
   "metadata": {},
   "source": [
    "Getting some important information like count, min, max using the method `describe()`. By default, it focuses on numerical columns (containing numbers) and calculates statistics like mean, standard deviation, quartiles (like 25th and 75th percentile), minimum and maximum values."
   ]
  },
  {
   "cell_type": "code",
   "execution_count": null,
   "id": "1ebe0503-8689-43bb-800a-5b38535373ae",
   "metadata": {},
   "outputs": [],
   "source": [
    "# Get some descriptive summary of the dataframe\n",
    "dataframe.describe()"
   ]
  },
  {
   "cell_type": "markdown",
   "id": "163d4a79-e9b0-406e-b4ab-ecae77769479",
   "metadata": {},
   "source": [
    "The `dataframe.describe()` method in pandas generates descriptive statistics that summarize the central tendency, dispersion, and shape of a dataset's distribution. Here's what each part typically includes:\n",
    "\n",
    "1. **Count**: Number of non-null observations (rows) in each column.\n",
    "   \n",
    "2. **Mean**: Average value of each numerical column.\n",
    "\n",
    "3. **Std (Standard Deviation)**: Measures the dispersion or spread of the values in each numerical column.\n",
    "\n",
    "4. **Min**: The smallest value in each numerical column.\n",
    "\n",
    "5. **25% (Percentile)**: The value below which 25% of the observations fall (1st quartile).\n",
    "\n",
    "6. **50% (Median)**: The median or 50th percentile.\n",
    "\n",
    "7. **75% (Percentile)**: The value below which 75% of the observations fall (3rd quartile).\n",
    "\n",
    "8. **Max**: The largest value in each numerical column.\n",
    "\n",
    "\n",
    "When you call `describe()` on a pandas DataFrame (`dataframe` in this case), it analyzes only the numerical columns by default and provides the statistical summary for each of these columns. Non-numerical columns are ignored unless specifically included by using additional parameters.\n",
    "\n",
    "This method is useful for quickly getting an overview of your dataset's numeric values, identifying outliers, understanding the distribution of your data, and more."
   ]
  },
  {
   "cell_type": "code",
   "execution_count": null,
   "id": "88c807f6-8d0b-4d34-8718-c142cdba52e0",
   "metadata": {},
   "outputs": [],
   "source": [
    "# Get the unique years from the \"year\" column\n",
    "dataframe[\"year\"].unique()"
   ]
  },
  {
   "cell_type": "markdown",
   "id": "49afb7f2-8bc8-4a1e-a1f9-13f1beada7fe",
   "metadata": {},
   "source": [
    "To display the unique values of the column **year**:"
   ]
  },
  {
   "cell_type": "code",
   "execution_count": null,
   "id": "163c8d08-c94b-49d2-9bf3-817cf67482dd",
   "metadata": {},
   "outputs": [],
   "source": [
    "dataframe[\"year\"].unique()"
   ]
  },
  {
   "cell_type": "markdown",
   "id": "b6fd1a6f-e745-43bf-913e-89c702cfe305",
   "metadata": {},
   "source": [
    "Note that the order of unique values returned by .unique() is not guaranteed."
   ]
  },
  {
   "cell_type": "markdown",
   "id": "c8548e5e-e150-484a-ab4b-c85ef0ff59d9",
   "metadata": {},
   "source": [
    "To display the unique values of the column **languageLabel**:"
   ]
  },
  {
   "cell_type": "code",
   "execution_count": null,
   "id": "a7b9255f-1ff2-4a8f-98e9-41b9bba5db45",
   "metadata": {},
   "outputs": [],
   "source": [
    "# Get the unique languages from the \"languageLabel\" column\n",
    "dataframe[\"languageLabel\"].unique()"
   ]
  },
  {
   "cell_type": "markdown",
   "id": "ffa82c48-42b1-4e86-9ced-6a3a9bcac142",
   "metadata": {},
   "source": [
    "To sort the values by one or more columns:"
   ]
  },
  {
   "cell_type": "code",
   "execution_count": null,
   "id": "d3b81cfd-ce61-4fcb-8f98-fd8e4c350263",
   "metadata": {},
   "outputs": [],
   "source": [
    "dataframe.sort_values([\"year\"])"
   ]
  },
  {
   "cell_type": "markdown",
   "id": "6cd77289-229c-4d32-9622-ed7c4d5cfef1",
   "metadata": {},
   "source": [
    "`.sort_values([\"year\"])` sorts the DataFrame by the values in the column named \"year\". You can specify one or more columns to sort by. By default, sorting is done in ascending order."
   ]
  },
  {
   "cell_type": "code",
   "execution_count": null,
   "id": "9b66d962-d0d0-4fc2-880d-a58ced9de550",
   "metadata": {},
   "outputs": [],
   "source": [
    "dataframe.sort_values([\"year\", \"languageLabel\"])"
   ]
  },
  {
   "cell_type": "code",
   "execution_count": null,
   "id": "d929b9b2-1616-4c7b-acd8-ac33e419d425",
   "metadata": {},
   "outputs": [],
   "source": [
    "dataframe.sort_values([\"languageLabel\"])"
   ]
  },
  {
   "cell_type": "markdown",
   "id": "07a16b7f-ec18-4f77-906e-a567209b38b6",
   "metadata": {},
   "source": [
    "To obtain the data types of the columns:"
   ]
  },
  {
   "cell_type": "code",
   "execution_count": null,
   "id": "21f687a6-40bb-4687-bea1-9297b3a5b9ea",
   "metadata": {},
   "outputs": [],
   "source": [
    "# Get the data types of each column in the dataframe\n",
    "dataframe.dtypes"
   ]
  },
  {
   "cell_type": "markdown",
   "id": "d10d4698-512b-4475-bf04-da55eb07f965",
   "metadata": {},
   "source": [
    "The `dataframe.dtypes` attribute in pandas returns the data types of each column in the DataFrame `dataframe`. It provides information about how pandas has interpreted the data from the JSON (or any other source) based on its initial reading and normalization process. Here's what you'll typically see:\n",
    "\n",
    "- **Numeric Types**: Integers (`int64`), Floating-point numbers (`float64`).\n",
    "- **Object Type**: Typically strings (`object`), but can also include other Python objects.\n",
    "- **DateTime Types**: If applicable, pandas will recognize and label date/time data appropriately (`datetime64`).\n",
    "- **Categorical Types**: If pandas identifies a column with a small number of unique values, it may assign it a `category` dtype, which can optimize memory usage and speed up certain operations."
   ]
  },
  {
   "cell_type": "markdown",
   "id": "1b286634-61fe-4ed4-9b75-6515e7de2153",
   "metadata": {},
   "source": [
    "### Handling Missing Values\n",
    "- Identify missing values in the dataset.\n",
    "- Replace missing values in the \"year\" column with the median year.\n",
    "- Replace missing values in categorical columns (e.g., \"languageLabel\") with \"Unknown\"."
   ]
  },
  {
   "cell_type": "code",
   "execution_count": null,
   "id": "5daf3f65-d7b3-4598-80d6-a5b26f54e55f",
   "metadata": {},
   "outputs": [],
   "source": [
    "dataframe[\"year\"] = pd.to_numeric(dataframe[\"year\"], errors=\"coerce\")\n",
    "\n",
    "# Identify missing values\n",
    "print(dataframe.isnull().sum())\n",
    "\n",
    "# Fill missing values in \"year\" with the median value\n",
    "dataframe[\"year\"].fillna(dataframe[\"year\"].median(), inplace=True)\n",
    "# Fill missing values in \"languageLabel\" with \"Unknown\"\n",
    "dataframe[\"languageLabel\"].fillna(\"Unknown\", inplace=True)"
   ]
  },
  {
   "cell_type": "markdown",
   "id": "5e0aeff2-200b-4962-ad91-cc749182345e",
   "metadata": {},
   "source": [
    "### Filtering Data\n",
    "- Extract all rows where the \"year\" is greater than 2000.\n",
    "- Extract all rows where \"languageLabel\" is \"English\"."
   ]
  },
  {
   "cell_type": "code",
   "execution_count": null,
   "id": "b27d347b-096c-4733-893d-e761cc3867cc",
   "metadata": {},
   "outputs": [],
   "source": [
    "dataframe = dataframe.astype(dtype={\"year\": \"<i4\", \"languageLabel\": \"<U200\"})"
   ]
  },
  {
   "cell_type": "code",
   "execution_count": null,
   "id": "ffa6b405-4c91-4ccf-b36e-6dfeb93d0da3",
   "metadata": {},
   "outputs": [],
   "source": [
    "# Filter rows where \"year\" is greater than 1960\n",
    "filtered_year = dataframe[dataframe[\"year\"] > 1960]\n",
    "filtered_year"
   ]
  },
  {
   "cell_type": "code",
   "execution_count": null,
   "id": "d3f0aa4e-c93d-4fca-8b10-a197241215ff",
   "metadata": {},
   "outputs": [],
   "source": [
    "# Filter rows where \"languageLabel\" is \"BCPL\"\n",
    "filtered_language = dataframe[dataframe[\"languageLabel\"] == \"BCPL\"]\n",
    "print(filtered_language)"
   ]
  },
  {
   "cell_type": "markdown",
   "id": "6ea9a53f-69fc-4cc1-92c3-f61deb9e80db",
   "metadata": {},
   "source": [
    "### Grouping and Aggregation\n",
    "- Count how many entries exist per \"languageLabel\".\n",
    "- Count how many entries exist per \"year\"."
   ]
  },
  {
   "cell_type": "code",
   "execution_count": null,
   "id": "7c86fdd2-66f6-42b9-83cd-743c3e88785b",
   "metadata": {},
   "outputs": [],
   "source": [
    "# Count occurrences of each language\n",
    "language_counts = dataframe[\"languageLabel\"].value_counts()\n",
    "print(language_counts)"
   ]
  },
  {
   "cell_type": "code",
   "execution_count": null,
   "id": "d4e6a3de-0dde-466b-badb-d31a6abfe0df",
   "metadata": {},
   "outputs": [],
   "source": [
    "# Count occurrences of each year\n",
    "language_counts = dataframe[\"year\"].value_counts()\n",
    "print(language_counts)"
   ]
  },
  {
   "cell_type": "markdown",
   "id": "31224bbd-921a-4994-acfb-3995873572f3",
   "metadata": {},
   "source": [
    "### Exporting Data\n",
    "\n",
    "Save the modified dataframe to a new JSON file."
   ]
  },
  {
   "cell_type": "code",
   "execution_count": null,
   "id": "b07a0a0d-85e3-407f-89ec-e50c0cf989e9",
   "metadata": {},
   "outputs": [],
   "source": [
    "# Save to JSON file\n",
    "dataframe.to_json(\"modified_pl.json\", orient=\"records\", indent=4)"
   ]
  },
  {
   "cell_type": "markdown",
   "id": "c62479ce-b90b-48c1-b4d0-1f5b8e57ce97",
   "metadata": {},
   "source": [
    "Save it as a CSV file as well."
   ]
  },
  {
   "cell_type": "code",
   "execution_count": null,
   "id": "821a7f07-08fc-4744-a106-5cd46090aadc",
   "metadata": {},
   "outputs": [],
   "source": [
    "# Save to CSV file\n",
    "dataframe.to_csv(\"modified_pl.csv\", index=False)"
   ]
  },
  {
   "cell_type": "markdown",
   "id": "9a53a3ac-d287-4a8b-8b62-4d7cac4063b4",
   "metadata": {},
   "source": [
    "**Question:**  What is the difference between `json.load()` and `json.loads()` in Python?  "
   ]
  },
  {
   "attachments": {
    "../../images/wikidataquery.png": {
     "image/png": "[encoded data removed]"
    }
   },
   "cell_type": "markdown",
   "id": "4f81e201",
   "metadata": {},
   "source": [
    "## Exercise 4 ★★\n",
    "\n",
    "In this exercise, we will take a look at how to download data from\n",
    "external data sources using special query interfaces. Take for example,\n",
    "above data was obtained from [Wikidata query](https://query.wikidata.org/):**\n",
    "(https://query.wikidata.org/)) interface.\n",
    "See the screenshot given below.\n",
    "\n",
    "![](attachment:../../images/wikidataquery.png)\n",
    "\n",
    "Given below is the code to read data from an external data source. Use\n",
    "this\n",
    "[url](https://query.wikidata.org/sparql?query=SELECT%20%3FlanguageLabel%20(YEAR(%3Finception)%20as%20%3Fyear)%0AWHERE%0A%7B%0A%20%20%23instances%20of%20programming%20language%0A%20%20%3Flanguage%20wdt%3AP31%20wd%3AQ9143%3B%0A%20%20%20%20%20%20%20%20%20%20%20%20wdt%3AP571%20%3Finception%3B%0A%20%20%20%20%20%20%20%20%20%20%20%20rdfs%3Alabel%20%3FlanguageLabel.%0A%20%20FILTER(lang(%3FlanguageLabel)%20%3D%20%22en%22)%0A%7D%0AORDER%20BY%20%3Fyear%0ALIMIT%20100&format=json):\n",
    "(https://query.wikidata.org/sparql?query=SELECT%20%3FlanguageLabel%20(YEAR(%3Finception)%20as%20%3Fyear)%0AWHERE%0A%7B%0A%20%20%23instances%20of%20programming%20language%0A%20%20%3Flanguage%20wdt%3AP31%20wd%3AQ9143%3B%0A%20%20%20%20%20%20%20%20%20%20%20%20wdt%3AP571%20%3Finception%3B%0A%20%20%20%20%20%20%20%20%20%20%20%20rdfs%3Alabel%20%3FlanguageLabel.%0A%20%20FILTER(lang(%3FlanguageLabel)%20%3D%20%22en%22)%0A%7D%0AORDER%20BY%20%3Fyear%0ALIMIT%20100&format=json).\n",
    "\n"
   ]
  },
  {
   "cell_type": "markdown",
   "id": "c01a458e-d30f-4b75-aa33-0932a183b23f",
   "metadata": {},
   "source": []
  },
  {
   "cell_type": "code",
   "execution_count": null,
   "id": "9728128c",
   "metadata": {},
   "outputs": [],
   "source": [
    "import urllib.request\n",
    "import json\n",
    "import pandas as pd\n",
    "\n",
    "url = \"https://query.wikidata.org/sparql?query=SELECT%20%3FlanguageLabel%20(YEAR(%3Finception)%20as%20%3Fyear)%0AWHERE%0A%7B%0A%20%20%23instances%20of%20programming%20language%0A%20%20%3Flanguage%20wdt%3AP31%20wd%3AQ9143%3B%0A%20%20%20%20%20%20%20%20%20%20%20%20wdt%3AP571%20%3Finception%3B%0A%20%20%20%20%20%20%20%20%20%20%20%20rdfs%3Alabel%20%3FlanguageLabel.%0A%20%20FILTER(lang(%3FlanguageLabel)%20%3D%20%22en%22)%0A%7D%0AORDER%20BY%20%3Fyear%0ALIMIT%20100&format=json\"\n",
    "response = urllib.request.urlopen(url)\n",
    "responsedata = json.loads(response.read().decode(\"utf-8\"))\n",
    "\n",
    "array = []\n",
    "\n",
    "for data in responsedata[\"results\"][\"bindings\"]:\n",
    "    array.append([data[\"year\"][\"value\"], data[\"languageLabel\"][\"value\"]])\n",
    "\n",
    "dataframe = pd.DataFrame(array, columns=[\"year\", \"languageLabel\"])\n",
    "dataframe = dataframe.astype(dtype={\"year\": \"<i4\", \"languageLabel\": \"<U200\"})\n",
    "print(dataframe)"
   ]
  },
  {
   "cell_type": "code",
   "execution_count": null,
   "id": "622f33d6-695b-4c76-b4b8-c46daaf9435d",
   "metadata": {},
   "outputs": [],
   "source": [
    "dataframe"
   ]
  },
  {
   "cell_type": "code",
   "execution_count": null,
   "id": "ebbd4cad-07d2-43e8-bb77-875045af5fe1",
   "metadata": {},
   "outputs": [],
   "source": [
    "# Get some descriptive summary of the dataframe\n",
    "dataframe.describe()"
   ]
  },
  {
   "cell_type": "code",
   "execution_count": null,
   "id": "17e381c6-d5cc-40ae-8835-91163e445452",
   "metadata": {},
   "outputs": [],
   "source": [
    "# Get some descriptive summary of the year column\n",
    "dataframe[\"year\"].describe()"
   ]
  },
  {
   "cell_type": "code",
   "execution_count": null,
   "id": "4fc5bf30-4ad5-4694-92cb-0ad2db7fc999",
   "metadata": {},
   "outputs": [],
   "source": [
    "# Get some descriptive summary of the languageLabel column\n",
    "dataframe[\"languageLabel\"].describe()"
   ]
  },
  {
   "cell_type": "code",
   "execution_count": null,
   "id": "95ce7d13-9720-41cc-8386-559d07705fcb",
   "metadata": {},
   "outputs": [],
   "source": [
    "# Get the data types of each column in the dataframe\n",
    "dataframe.dtypes"
   ]
  },
  {
   "cell_type": "markdown",
   "id": "60461195-9a61-476f-89fd-1fd0134595e7",
   "metadata": {},
   "source": [
    "### Filter Data for a Specific Time Period\n",
    "\n",
    "You can filter the data to get programming languages that were invented in a specific range of years (e.g., between 1980 and 2000). This can be useful if you're only interested in languages created during a certain period."
   ]
  },
  {
   "cell_type": "code",
   "execution_count": null,
   "id": "59cfdc4f-c8ca-4239-ba0d-7c7bdb2ffe63",
   "metadata": {},
   "outputs": [],
   "source": [
    "# Filter programming languages created between 1980 and 2000\n",
    "filtered_df = dataframe[(dataframe[\"year\"] >= 1980) & (dataframe[\"year\"] <= 2000)]\n",
    "print(filtered_df)\n"
   ]
  },
  {
   "cell_type": "markdown",
   "id": "54b43336-3225-4738-836e-095dcf4f3fad",
   "metadata": {},
   "source": [
    "Count Languages per Year: A useful operation could be to count how many languages were invented each year. This can give you a better understanding of trends in programming language creation."
   ]
  },
  {
   "cell_type": "code",
   "execution_count": null,
   "id": "df500569-6f83-4e3f-9827-5998ec1c7ba6",
   "metadata": {},
   "outputs": [],
   "source": [
    "# Count the number of languages created per year\n",
    "languages_per_year = dataframe.groupby(\"year\").size()\n",
    "print(languages_per_year)\n"
   ]
  },
  {
   "cell_type": "markdown",
   "id": "3c5bcf2f-12cb-44ba-b81d-fb84e4488818",
   "metadata": {},
   "source": [
    "Identify Languages With the Most Recent Inception: Another interesting question to ask could be which language has the most recent inception date. We can sort the dataframe by year and find the latest entries."
   ]
  },
  {
   "cell_type": "code",
   "execution_count": null,
   "id": "c3eececd-9b86-4150-b826-e6b929fe2867",
   "metadata": {},
   "outputs": [],
   "source": [
    "# Sort the dataframe by year and get the most recent languages\n",
    "recent_languages = dataframe.sort_values(\"year\", ascending=False).head(10)\n",
    "print(recent_languages)\n"
   ]
  },
  {
   "cell_type": "markdown",
   "id": "e36bc795-585c-4e10-9edc-025af9aabf8d",
   "metadata": {},
   "source": [
    "**Question**: \n",
    "\n",
    "What is the trend in the number of programming languages being created over time? Based on the filtered data (for languages created between 1960 and 2000), identify the year with the highest number of programming languages created. Furthermore, create a new dataframe containing only the top 5 most popular programming languages (by count) during this period."
   ]
  },
  {
   "cell_type": "markdown",
   "id": "e4f4168c",
   "metadata": {},
   "source": [
    "## Exercise 5 ★★★\n",
    "\n",
    "This exercise will use some basic data analyses. Continuing with\n",
    "the code in Exercise 4, le's count the number of programming\n",
    "languages released in a year."
   ]
  },
  {
   "cell_type": "code",
   "execution_count": null,
   "id": "26c95b60",
   "metadata": {},
   "outputs": [],
   "source": [
    "grouped = dataframe.groupby(\"year\").count()\n",
    "grouped"
   ]
  },
  {
   "cell_type": "markdown",
   "id": "150448f4-80d6-4d43-947e-fc93bfe16731",
   "metadata": {},
   "source": [
    "The above code creates a new DataFrame `grouped` by grouping the original DataFrame `dataframe` based on the values in the column named \"year\", and then counting the occurrences in each group."
   ]
  },
  {
   "cell_type": "markdown",
   "id": "3465f7a2",
   "metadata": {},
   "source": [
    "You can also use multiple aggregate functions using agg()"
   ]
  },
  {
   "cell_type": "code",
   "execution_count": null,
   "id": "2c80842a-cc17-43b7-b223-a91a56bb498f",
   "metadata": {},
   "outputs": [],
   "source": [
    "grouped = dataframe.groupby(\"year\").agg([\"count\"])\n",
    "grouped"
   ]
  },
  {
   "cell_type": "markdown",
   "id": "cce81ea3",
   "metadata": {},
   "source": [
    "Till now, we worked with tables having two columns. Now we focus on\n",
    "tables with three columns (programming language, year, paradigm). Copy\n",
    "the file\n",
    "[plparadigm.json](../../data/plparadigm.json)\n",
    "to your working directory. And test the following program.\n",
    "\n"
   ]
  },
  {
   "cell_type": "code",
   "execution_count": null,
   "id": "9a91f9d1",
   "metadata": {},
   "outputs": [],
   "source": [
    "from pandas import json_normalize\n",
    "import pandas as pd\n",
    "import json\n",
    "\n",
    "# Load JSON data from a file\n",
    "jsondata = json.load(open(\"../../data/plparadigm.json\"))\n",
    "\n",
    "# Create an empty list to store temporary data\n",
    "array = []\n",
    "\n",
    "# Loop through each item in the JSON data\n",
    "for data in jsondata:\n",
    "    # Extract specific values from each item and append them to the list\n",
    "    # Assuming \"year\", \"languageLabel\", and \"paradigmLabel\" are keys in the JSON data\n",
    "    array.append([data[\"year\"], data[\"languageLabel\"], data[\"paradigmLabel\"]])\n",
    "\n",
    "# Create a pandas DataFrame from the list with named columns\n",
    "dataframe = pd.DataFrame(array, columns=[\"year\", \"languageLabel\", \"paradigmLabel\"])\n",
    "\n",
    "# Set data types for the columns in the DataFrame\n",
    "# This ensures efficient storage and avoids potential errors during operations\n",
    "dataframe = dataframe.astype(\n",
    "    dtype={\"year\": \"int64\", \"languageLabel\": \"<U200\", \"paradigmLabel\": \"<U200\"}\n",
    ")\n",
    "\n",
    "# Group the DataFrame by \"year\" and \"paradigmLabel\" columns\n",
    "grouped = dataframe.groupby([\"year\", \"paradigmLabel\"]).agg([\"count\"])\n",
    "grouped"
   ]
  },
  {
   "cell_type": "markdown",
   "id": "a681990a",
   "metadata": {},
   "source": [
    "Now test the following program. Compare the difference in output."
   ]
  },
  {
   "cell_type": "code",
   "execution_count": null,
   "id": "20b3576c",
   "metadata": {},
   "outputs": [],
   "source": [
    "grouped = dataframe.groupby([\"paradigmLabel\", \"year\"]).agg([\"count\"])\n",
    "grouped"
   ]
  },
  {
   "cell_type": "markdown",
   "id": "86fd2687",
   "metadata": {},
   "source": [
    "Your next goal is to run the following query to get the population\n",
    "information of different countries (limited to 10000 rows). Run the\n",
    "following query on [Wikidata query service](https://query.wikidata.org)\n",
    "and download the JSON file.\n",
    "\n"
   ]
  },
  {
   "cell_type": "markdown",
   "id": "eb813890",
   "metadata": {},
   "source": [
    "```\n",
    "SELECT DISTINCT ?countryLabel (YEAR(?date) as ?year) ?population\n",
    "WHERE {\n",
    " ?country wdt:P31 wd:Q6256; #Country \n",
    "   p:P1082 ?populationStatement;\n",
    "  rdfs:label ?countryLabel. #Label\n",
    " ?populationStatement ps:P1082 ?population; #population\n",
    "  pq:P585 ?date. #period in time\n",
    " FILTER(lang(?countryLabel)=\"en\") #Label in English\n",
    "}\n",
    "ORDER by ?countryLabel ?year\n",
    "LIMIT 5000\n",
    "```\n",
    "              \n",
    "\n"
   ]
  },
  {
   "cell_type": "markdown",
   "id": "b0f59526",
   "metadata": {},
   "source": [
    "**Question 1**:\n",
    "\n",
    "Now, compute and display the following information (using various\n",
    "[operations available in pandas library](https://pandas.pydata.org/pandas-docs/stable/10min.html)\n",
    "(**Ref:**\n",
    "(https://pandas.pydata.org/pandas-docs/stable/10min.html))):\n",
    "\n",
    "1.  The population of countries in alphabetical order of their names and\n",
    "    ascending order of year.\n",
    "2.  The latest available population of every country\n",
    "3.  The country with the lowest and highest population (considering the\n",
    "    latest population)"
   ]
  },
  {
   "cell_type": "markdown",
   "id": "1e866ba5-2c2d-4b56-b1c3-d5b64321b387",
   "metadata": {},
   "source": [
    "**Question 2** :\n",
    "\n",
    "Your next goal is to run the following query to get information related\n",
    "to scientific articles published after 2010 (limited to 5000 rows). Run\n",
    "the following query on [Wikidata query service](https://query-scholarly.wikidata.org/) and download the JSON file.\n",
    "It gives you the following information related to the scientific\n",
    "article: title, main subject and publication year.\n",
    "\n",
    "**Note** : Please note the URL for querying scientific articles is [https://query-scholarly.wikidata.org/](https://query-scholarly.wikidata.org/)."
   ]
  },
  {
   "cell_type": "markdown",
   "id": "22618938",
   "metadata": {},
   "source": [
    "```\n",
    "SELECT ?title ?subject ?year\n",
    "{\n",
    "  ?article wdt:P31 wd:Q13442814; #scientific article\n",
    "           wdt:P1476 ?title; #title of the article\n",
    "           wdt:P921 ?subject; #main subject\n",
    "           wdt:P577 ?date. #publication date\n",
    "  BIND(YEAR(?date) as ?year).\n",
    "  FILTER(lang(?title) = \"en\" && ?year>2010)\n",
    "}\n",
    "LIMIT 5000\n",
    "```\n",
    "\n"
   ]
  },
  {
   "cell_type": "markdown",
   "id": "73fbc832",
   "metadata": {},
   "source": [
    "Now, compute and display the following information (using various\n",
    "[operations available in pandas\n",
    "library](https://pandas.pydata.org/pandas-docs/stable/10min.html)\n",
    "(**Ref:**\n",
    "(https://pandas.pydata.org/pandas-docs/stable/10min.html))):\n",
    "\n",
    "1.  The number of articles published on different subjects every year.\n",
    "2.  Top subject of interest to the scientific community every year(based\n",
    "    on the above query results).\n",
    "3.  Top 10 subjects of interest to the scientific community (based on\n",
    "    the above query results) since 2010.\n",
    "\n",
    "**Hint**:Take a look at functions groupby, reset_index, head, tail, sort_values, count of Pandas\n",
    "\n"
   ]
  },
  {
   "cell_type": "markdown",
   "id": "99eb67df-0773-4a58-be20-6d22d0dfaa3b",
   "metadata": {},
   "source": [
    "**Note**: If you get time-out errors, please change the LIMIT to some lower values (1000, 2000, 5000)."
   ]
  },
  {
   "cell_type": "markdown",
   "id": "9bb9a4d9-2353-4aee-ae07-7f4fc6be2749",
   "metadata": {},
   "source": [
    "## Exercise 6 ★★★\n",
    "\n",
    "In our final exercise, we will query Wikidata and obtain the URLs of the images. Then we will download these images."
   ]
  },
  {
   "cell_type": "code",
   "execution_count": null,
   "id": "42637a74-f51a-422b-8370-fe86d9ab07b3",
   "metadata": {},
   "outputs": [],
   "source": [
    "import sys\n",
    "from SPARQLWrapper import SPARQLWrapper, JSON\n",
    "\n",
    "endpoint_url = \"https://query.wikidata.org/sparql\"\n",
    "\n",
    "# Get cities\n",
    "query = \"\"\"SELECT DISTINCT ?bigcity ?bigcityLabel ?country ?countryLabel ?image {\n",
    "  ?bigcity wdt:P31 wd:Q1549591;\n",
    "               wdt:P17 ?country;\n",
    "               wdt:P18 ?image.\n",
    " SERVICE wikibase:label { bd:serviceParam wikibase:language \"en\". }\n",
    "}\n",
    "LIMIT 10\"\"\"\n",
    "\n",
    "\n",
    "def get_results(endpoint_url, query):\n",
    "    user_agent = \"WDQS-example Python/%s.%s\" % (\n",
    "        sys.version_info[0],\n",
    "        sys.version_info[1],\n",
    "    )\n",
    "    sparql = SPARQLWrapper(endpoint_url, agent=user_agent)\n",
    "    sparql.setQuery(query)\n",
    "    sparql.setReturnFormat(JSON)\n",
    "    return sparql.query().convert()\n",
    "\n",
    "\n",
    "array = []\n",
    "results = get_results(endpoint_url, query)\n",
    "\n",
    "for result in results[\"results\"][\"bindings\"]:\n",
    "    array.append(\n",
    "        (\n",
    "            result[\"bigcityLabel\"][\"value\"],\n",
    "            result[\"countryLabel\"][\"value\"],\n",
    "            result[\"image\"][\"value\"],\n",
    "        )\n",
    "    )"
   ]
  },
  {
   "cell_type": "code",
   "execution_count": null,
   "id": "72c370a8-c1b0-47db-bda3-2214548ba4a3",
   "metadata": {},
   "outputs": [],
   "source": [
    "dataframe = pd.DataFrame(array, columns=[\"city\", \"country\", \"image\"])\n",
    "dataframe = dataframe.astype(\n",
    "    dtype={\"city\": \"<U200\", \"country\": \"<U200\", \"image\": \"<U200\"}\n",
    ")\n",
    "dataframe"
   ]
  },
  {
   "cell_type": "markdown",
   "id": "8693f6b0-d2c1-4d45-93d8-a9f86b1009af",
   "metadata": {},
   "source": [
    "We will now download these images"
   ]
  },
  {
   "cell_type": "code",
   "execution_count": null,
   "id": "5d95dccd-097a-4364-b4f5-c5daf4ead89f",
   "metadata": {},
   "outputs": [],
   "source": [
    "import requests\n",
    "import shutil\n",
    "import os\n",
    "\n",
    "\n",
    "def download_image(url):\n",
    "\n",
    "    headers = {\"User-Agent\": \"Mozilla/5.0\"}\n",
    "    request = requests.get(url, allow_redirects=True, headers=headers, stream=True)\n",
    "    if request.status_code == 200:\n",
    "        with open(os.path.basename(url), \"wb\") as image:\n",
    "            request.raw.decode_content = True\n",
    "            shutil.copyfileobj(request.raw, image)\n",
    "    return request.status_code"
   ]
  },
  {
   "cell_type": "code",
   "execution_count": null,
   "id": "73a54043-6711-441a-a2e5-c046239b78bb",
   "metadata": {},
   "outputs": [],
   "source": [
    "dataframe.image.apply(download_image)"
   ]
  },
  {
   "cell_type": "markdown",
   "id": "cf18ce2c-d6d4-44d6-96ff-c66d78a2ad2e",
   "metadata": {},
   "source": [
    "**Question 1**\n",
    "\n",
    "Modify the above code and download images related to any subject of your choice (cities, historical monuments, flowers, buildings, etc.)"
   ]
  },
  {
   "cell_type": "markdown",
   "id": "234970a9-3e0f-4f80-af7c-17eebf49c279",
   "metadata": {},
   "source": [
    "**Question 2**\n",
    "\n",
    "Your next goal is to retrieve skyscraper ([Q11303](https://www.wikidata.org/wiki/Q11303)) data (name, country, image, height) from Wikidata and download and filter images based on size. \n",
    "Use image processing code below to classify skyscrapers based on their skyline contrast (daytime vs. nighttime images).\n",
    "\n",
    "Which country has the most skyscrapers appearing in nighttime images?"
   ]
  },
  {
   "cell_type": "code",
   "execution_count": null,
   "id": "4aae1e7a-4ad8-400c-9d11-8f0a88cc48fc",
   "metadata": {},
   "outputs": [],
   "source": [
    "! pip install opencv-python"
   ]
  },
  {
   "cell_type": "code",
   "execution_count": null,
   "id": "df17ed2f-7c5a-457c-89b5-6111cc917b50",
   "metadata": {},
   "outputs": [],
   "source": [
    "import cv2\n",
    "import numpy as np\n",
    "\n",
    "def classify_day_night(image_path):\n",
    "    img = cv2.imread(image_path, cv2.IMREAD_GRAYSCALE)  # Convert to grayscale\n",
    "    brightness = np.mean(img)  # Compute average pixel brightness\n",
    "\n",
    "    if brightness < 60:  # Dark images are nighttime\n",
    "        return \"nighttime\"\n",
    "    return \"daytime\""
   ]
  }
 ],
 "metadata": {
  "kernelspec": {
   "display_name": "Python 3 (ipykernel)",
   "language": "python",
   "name": "python3"
  },
  "language_info": {
   "codemirror_mode": {
    "name": "ipython",
    "version": 3
   },
   "file_extension": ".py",
   "mimetype": "text/x-python",
   "name": "python",
   "nbconvert_exporter": "python",
   "pygments_lexer": "ipython3",
   "version": "3.10.12"
  }
 },
 "nbformat": 4,
 "nbformat_minor": 5
}
